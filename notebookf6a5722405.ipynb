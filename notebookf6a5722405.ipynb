{
 "cells": [
  {
   "cell_type": "code",
   "execution_count": null,
   "metadata": {
    "trusted": true
   },
   "outputs": [],
   "source": [
    "import pandas as pd\n",
    "import numpy as np\n",
    "import seaborn as sns\n",
    "import matplotlib.pyplot as plt\n",
    "from sklearn.preprocessing import LabelEncoder\n",
    "from sklearn.neighbors import KNeighborsRegressor\n",
    "from sklearn.metrics import mean_squared_error, r2_score\n",
    "from sklearn.linear_model import LinearRegression\n",
    "import xgboost as xgb\n",
    "from tabulate import tabulate\n",
    "from sklearn.model_selection import train_test_split\n",
    "from sklearn.linear_model import LogisticRegression\n",
    "from sklearn.metrics import accuracy_score, confusion_matrix, classification_report, roc_curve, auc\n",
    "from sklearn.ensemble import RandomForestClassifier\n",
    "from sklearn.inspection import permutation_importance\n",
    "from sklearn.feature_extraction.text import TfidfVectorizer\n",
    "from sklearn.metrics.pairwise import cosine_similarity\n",
    "import scipy.stats as stats\n",
    "from sklearn.pipeline import Pipeline\n",
    "from sklearn.impute import SimpleImputer\n",
    "from sklearn.preprocessing import StandardScaler, OneHotEncoder\n",
    "from sklearn.compose import ColumnTransformer\n",
    "import warnings\n",
    "warnings.filterwarnings('ignore')\n",
    "\n",
    "df = pd.read_csv('/kaggle/input/spotify-dataset-for-churn-analysis/spotify_churn_dataset.csv')\n",
    "\n",
    "print(df.head())"
   ]
  },
  {
   "cell_type": "code",
   "execution_count": null,
   "metadata": {
    "execution": {
     "iopub.execute_input": "2025-08-29T01:01:59.217846Z",
     "iopub.status.busy": "2025-08-29T01:01:59.217476Z",
     "iopub.status.idle": "2025-08-29T01:01:59.250826Z",
     "shell.execute_reply": "2025-08-29T01:01:59.249528Z",
     "shell.execute_reply.started": "2025-08-29T01:01:59.217816Z"
    },
    "trusted": true
   },
   "outputs": [],
   "source": [
    "print(df.describe())"
   ]
  },
  {
   "cell_type": "markdown",
   "metadata": {},
   "source": [
    "# Data Preprocessing"
   ]
  },
  {
   "cell_type": "code",
   "execution_count": null,
   "metadata": {
    "execution": {
     "iopub.execute_input": "2025-08-29T01:01:59.253828Z",
     "iopub.status.busy": "2025-08-29T01:01:59.253404Z",
     "iopub.status.idle": "2025-08-29T01:01:59.264035Z",
     "shell.execute_reply": "2025-08-29T01:01:59.262942Z",
     "shell.execute_reply.started": "2025-08-29T01:01:59.253803Z"
    },
    "trusted": true
   },
   "outputs": [],
   "source": [
    "# Check for missing values\n",
    "print(df.isnull().sum())"
   ]
  },
  {
   "cell_type": "code",
   "execution_count": null,
   "metadata": {
    "execution": {
     "iopub.execute_input": "2025-08-29T01:01:59.265516Z",
     "iopub.status.busy": "2025-08-29T01:01:59.265129Z",
     "iopub.status.idle": "2025-08-29T01:01:59.289835Z",
     "shell.execute_reply": "2025-08-29T01:01:59.288106Z",
     "shell.execute_reply.started": "2025-08-29T01:01:59.265493Z"
    },
    "trusted": true
   },
   "outputs": [],
   "source": [
    "print(\"\\n🔹 Data Types:\\n\", df.dtypes)\n"
   ]
  },
  {
   "cell_type": "markdown",
   "metadata": {},
   "source": [
    "# EDA"
   ]
  },
  {
   "cell_type": "code",
   "execution_count": null,
   "metadata": {
    "execution": {
     "iopub.execute_input": "2025-08-29T01:01:59.291275Z",
     "iopub.status.busy": "2025-08-29T01:01:59.290955Z",
     "iopub.status.idle": "2025-08-29T01:01:59.321369Z",
     "shell.execute_reply": "2025-08-29T01:01:59.320245Z",
     "shell.execute_reply.started": "2025-08-29T01:01:59.291243Z"
    },
    "trusted": true
   },
   "outputs": [],
   "source": [
    "# Value Counts (Categorical)\n",
    "# ================================\n",
    "categorical_cols = df.select_dtypes(include='object').columns\n",
    "for col in categorical_cols:\n",
    "    print(f\"\\nValue Counts for {col}:\")\n",
    "    print(df[col].value_counts())"
   ]
  },
  {
   "cell_type": "code",
   "execution_count": null,
   "metadata": {
    "execution": {
     "iopub.execute_input": "2025-08-29T01:01:59.323566Z",
     "iopub.status.busy": "2025-08-29T01:01:59.322996Z",
     "iopub.status.idle": "2025-08-29T01:01:59.651619Z",
     "shell.execute_reply": "2025-08-29T01:01:59.650119Z",
     "shell.execute_reply.started": "2025-08-29T01:01:59.323537Z"
    },
    "trusted": true
   },
   "outputs": [],
   "source": [
    "# Age Distribution\n",
    "\n",
    "plt.figure(figsize=(7,4))\n",
    "sns.histplot(df['age'], bins=20, kde=True, color=\"skyblue\")\n",
    "plt.title(\"Age Distribution of Users\")\n",
    "plt.show()"
   ]
  },
  {
   "cell_type": "code",
   "execution_count": null,
   "metadata": {
    "execution": {
     "iopub.execute_input": "2025-08-29T01:01:59.653297Z",
     "iopub.status.busy": "2025-08-29T01:01:59.652972Z",
     "iopub.status.idle": "2025-08-29T01:01:59.811232Z",
     "shell.execute_reply": "2025-08-29T01:01:59.810016Z",
     "shell.execute_reply.started": "2025-08-29T01:01:59.653274Z"
    },
    "trusted": true
   },
   "outputs": [],
   "source": [
    "# 3. Gender Split\n",
    "# ================================\n",
    "plt.figure(figsize=(5,4))\n",
    "sns.countplot(x=\"gender\", data=df, palette=\"Set2\")\n",
    "plt.title(\"Gender Distribution\")\n",
    "plt.show()"
   ]
  },
  {
   "cell_type": "code",
   "execution_count": null,
   "metadata": {
    "execution": {
     "iopub.execute_input": "2025-08-29T01:01:59.813098Z",
     "iopub.status.busy": "2025-08-29T01:01:59.812617Z",
     "iopub.status.idle": "2025-08-29T01:02:00.017551Z",
     "shell.execute_reply": "2025-08-29T01:02:00.01633Z",
     "shell.execute_reply.started": "2025-08-29T01:01:59.813051Z"
    },
    "trusted": true
   },
   "outputs": [],
   "source": [
    "# Country Distribution (Top 10)\n",
    "\n",
    "plt.figure(figsize=(10,5))\n",
    "df['country'].value_counts().head(10).plot(kind='bar', color=\"orange\")\n",
    "plt.title(\"Top 10 Countries by User Count\")\n",
    "plt.xlabel(\"Country\")\n",
    "plt.ylabel(\"Users\")\n",
    "plt.show()"
   ]
  },
  {
   "cell_type": "code",
   "execution_count": null,
   "metadata": {
    "execution": {
     "iopub.execute_input": "2025-08-29T01:02:00.022124Z",
     "iopub.status.busy": "2025-08-29T01:02:00.021802Z",
     "iopub.status.idle": "2025-08-29T01:02:00.211575Z",
     "shell.execute_reply": "2025-08-29T01:02:00.210599Z",
     "shell.execute_reply.started": "2025-08-29T01:02:00.0221Z"
    },
    "trusted": true
   },
   "outputs": [],
   "source": [
    "#  Subscription Type\n",
    "\n",
    "plt.figure(figsize=(6,4))\n",
    "sns.countplot(x=\"subscription_type\", data=df, palette=\"coolwarm\")\n",
    "plt.title(\"Subscription Type Distribution\")\n",
    "plt.show()"
   ]
  },
  {
   "cell_type": "code",
   "execution_count": null,
   "metadata": {
    "execution": {
     "iopub.execute_input": "2025-08-29T01:02:00.212982Z",
     "iopub.status.busy": "2025-08-29T01:02:00.212605Z",
     "iopub.status.idle": "2025-08-29T01:02:00.53623Z",
     "shell.execute_reply": "2025-08-29T01:02:00.535188Z",
     "shell.execute_reply.started": "2025-08-29T01:02:00.212959Z"
    },
    "trusted": true
   },
   "outputs": [],
   "source": [
    "# Listening Time Distribution\n",
    "\n",
    "plt.figure(figsize=(7,4))\n",
    "sns.histplot(df['listening_time'], bins=30, kde=True, color=\"purple\")\n",
    "plt.title(\"Listening Time per Day (Minutes)\")\n",
    "plt.show()"
   ]
  },
  {
   "cell_type": "code",
   "execution_count": null,
   "metadata": {
    "execution": {
     "iopub.execute_input": "2025-08-29T01:02:00.538185Z",
     "iopub.status.busy": "2025-08-29T01:02:00.537849Z",
     "iopub.status.idle": "2025-08-29T01:02:00.689891Z",
     "shell.execute_reply": "2025-08-29T01:02:00.688852Z",
     "shell.execute_reply.started": "2025-08-29T01:02:00.538155Z"
    },
    "trusted": true
   },
   "outputs": [],
   "source": [
    "# Device Type Usage\n",
    "\n",
    "plt.figure(figsize=(6,4))\n",
    "sns.countplot(x=\"device_type\", data=df, palette=\"muted\")\n",
    "plt.title(\"Device Type Distribution\")\n",
    "plt.show()"
   ]
  },
  {
   "cell_type": "code",
   "execution_count": null,
   "metadata": {
    "execution": {
     "iopub.execute_input": "2025-08-29T01:02:00.69128Z",
     "iopub.status.busy": "2025-08-29T01:02:00.691004Z",
     "iopub.status.idle": "2025-08-29T01:02:00.918425Z",
     "shell.execute_reply": "2025-08-29T01:02:00.917407Z",
     "shell.execute_reply.started": "2025-08-29T01:02:00.691257Z"
    },
    "trusted": true
   },
   "outputs": [],
   "source": [
    "# Ads Listened Distribution\n",
    "\n",
    "plt.figure(figsize=(7,4))\n",
    "sns.histplot(df['ads_listened_per_week'], bins=20, kde=False, color=\"green\")\n",
    "plt.title(\"Ads Listened per Week\")\n",
    "plt.show()"
   ]
  },
  {
   "cell_type": "code",
   "execution_count": null,
   "metadata": {
    "execution": {
     "iopub.execute_input": "2025-08-29T01:02:00.919864Z",
     "iopub.status.busy": "2025-08-29T01:02:00.919462Z",
     "iopub.status.idle": "2025-08-29T01:02:01.06433Z",
     "shell.execute_reply": "2025-08-29T01:02:01.06325Z",
     "shell.execute_reply.started": "2025-08-29T01:02:00.91983Z"
    },
    "trusted": true
   },
   "outputs": [],
   "source": [
    "# 10. Offline Listening\n",
    "# ================================\n",
    "plt.figure(figsize=(5,4))\n",
    "sns.countplot(x=\"offline_listening\", data=df, palette=\"Set1\")\n",
    "plt.title(\"Offline Listening Usage\")\n",
    "plt.show()"
   ]
  },
  {
   "cell_type": "markdown",
   "metadata": {},
   "source": [
    "# EDA Analysis for Churn\n"
   ]
  },
  {
   "cell_type": "code",
   "execution_count": null,
   "metadata": {
    "execution": {
     "iopub.execute_input": "2025-08-29T01:02:01.065766Z",
     "iopub.status.busy": "2025-08-29T01:02:01.065453Z",
     "iopub.status.idle": "2025-08-29T01:02:01.222279Z",
     "shell.execute_reply": "2025-08-29T01:02:01.221181Z",
     "shell.execute_reply.started": "2025-08-29T01:02:01.065737Z"
    },
    "trusted": true
   },
   "outputs": [],
   "source": [
    "# Churn Rate\n",
    "\n",
    "plt.figure(figsize=(5,4))\n",
    "sns.countplot(x=\"is_churned\", data=df, palette=\"Set2\")\n",
    "plt.title(\"Churn vs Active Users\")\n",
    "plt.xticks([0,1], [\"Active (0)\", \"Churned (1)\"])\n",
    "plt.show()"
   ]
  },
  {
   "cell_type": "code",
   "execution_count": null,
   "metadata": {
    "execution": {
     "iopub.execute_input": "2025-08-29T01:02:01.223964Z",
     "iopub.status.busy": "2025-08-29T01:02:01.223513Z",
     "iopub.status.idle": "2025-08-29T01:02:01.381874Z",
     "shell.execute_reply": "2025-08-29T01:02:01.3809Z",
     "shell.execute_reply.started": "2025-08-29T01:02:01.223938Z"
    },
    "trusted": true
   },
   "outputs": [],
   "source": [
    "# Age vs Churn\n",
    "\n",
    "plt.figure(figsize=(7,4))\n",
    "sns.boxplot(x=\"is_churned\", y=\"age\", data=df, palette=\"Set3\")\n",
    "plt.title(\"Age Distribution by Churn\")\n",
    "plt.xticks([0,1], [\"Active\", \"Churned\"])\n",
    "plt.show()"
   ]
  },
  {
   "cell_type": "code",
   "execution_count": null,
   "metadata": {
    "execution": {
     "iopub.execute_input": "2025-08-29T01:02:01.383446Z",
     "iopub.status.busy": "2025-08-29T01:02:01.383071Z",
     "iopub.status.idle": "2025-08-29T01:02:01.600391Z",
     "shell.execute_reply": "2025-08-29T01:02:01.599451Z",
     "shell.execute_reply.started": "2025-08-29T01:02:01.38342Z"
    },
    "trusted": true
   },
   "outputs": [],
   "source": [
    "# Gender vs Churn\n",
    "\n",
    "plt.figure(figsize=(6,4))\n",
    "sns.countplot(x=\"gender\", hue=\"is_churned\", data=df, palette=\"coolwarm\")\n",
    "plt.title(\"Gender Distribution by Churn\")\n",
    "plt.show()"
   ]
  },
  {
   "cell_type": "code",
   "execution_count": null,
   "metadata": {
    "execution": {
     "iopub.execute_input": "2025-08-29T01:02:01.601845Z",
     "iopub.status.busy": "2025-08-29T01:02:01.601497Z",
     "iopub.status.idle": "2025-08-29T01:02:01.844926Z",
     "shell.execute_reply": "2025-08-29T01:02:01.843966Z",
     "shell.execute_reply.started": "2025-08-29T01:02:01.601815Z"
    },
    "trusted": true
   },
   "outputs": [],
   "source": [
    "# Subscription Type vs Churn\n",
    "\n",
    "plt.figure(figsize=(7,4))\n",
    "sns.countplot(x=\"subscription_type\", hue=\"is_churned\", data=df, palette=\"muted\")\n",
    "plt.title(\"Subscription Type vs Churn\")\n",
    "plt.show()"
   ]
  },
  {
   "cell_type": "code",
   "execution_count": null,
   "metadata": {
    "execution": {
     "iopub.execute_input": "2025-08-29T01:02:01.846585Z",
     "iopub.status.busy": "2025-08-29T01:02:01.846208Z",
     "iopub.status.idle": "2025-08-29T01:02:02.05772Z",
     "shell.execute_reply": "2025-08-29T01:02:02.056428Z",
     "shell.execute_reply.started": "2025-08-29T01:02:01.846553Z"
    },
    "trusted": true
   },
   "outputs": [],
   "source": [
    "# Listening Time vs Churn\n",
    "\n",
    "plt.figure(figsize=(7,4))\n",
    "sns.boxplot(x=\"is_churned\", y=\"listening_time\", data=df, palette=\"Set2\")\n",
    "plt.title(\"Daily Listening Time vs Churn\")\n",
    "plt.xticks([0,1], [\"Active\", \"Churned\"])\n",
    "plt.show()"
   ]
  },
  {
   "cell_type": "code",
   "execution_count": null,
   "metadata": {
    "execution": {
     "iopub.execute_input": "2025-08-29T01:02:02.059783Z",
     "iopub.status.busy": "2025-08-29T01:02:02.059045Z",
     "iopub.status.idle": "2025-08-29T01:02:02.406598Z",
     "shell.execute_reply": "2025-08-29T01:02:02.405594Z",
     "shell.execute_reply.started": "2025-08-29T01:02:02.059752Z"
    },
    "trusted": true
   },
   "outputs": [],
   "source": [
    "# Songs Played per Day vs Churn\n",
    "\n",
    "plt.figure(figsize=(7,4))\n",
    "sns.boxplot(x=\"is_churned\", y=\"songs_played_per_day\", data=df, palette=\"Set1\")\n",
    "plt.title(\"Songs Played per Day vs Churn\")\n",
    "plt.xticks([0,1], [\"Active\", \"Churned\"])\n",
    "plt.show()"
   ]
  },
  {
   "cell_type": "code",
   "execution_count": null,
   "metadata": {
    "execution": {
     "iopub.execute_input": "2025-08-29T01:02:02.408224Z",
     "iopub.status.busy": "2025-08-29T01:02:02.407856Z",
     "iopub.status.idle": "2025-08-29T01:02:02.582596Z",
     "shell.execute_reply": "2025-08-29T01:02:02.581218Z",
     "shell.execute_reply.started": "2025-08-29T01:02:02.408192Z"
    },
    "trusted": true
   },
   "outputs": [],
   "source": [
    "# Skip Rate vs Churn\n",
    "\n",
    "plt.figure(figsize=(7,4))\n",
    "sns.boxplot(x=\"is_churned\", y=\"skip_rate\", data=df, palette=\"coolwarm\")\n",
    "plt.title(\"Skip Rate vs Churn\")\n",
    "plt.xticks([0,1], [\"Active\", \"Churned\"])\n",
    "plt.show()"
   ]
  },
  {
   "cell_type": "code",
   "execution_count": null,
   "metadata": {
    "execution": {
     "iopub.execute_input": "2025-08-29T01:02:02.583879Z",
     "iopub.status.busy": "2025-08-29T01:02:02.58352Z",
     "iopub.status.idle": "2025-08-29T01:02:02.803546Z",
     "shell.execute_reply": "2025-08-29T01:02:02.802422Z",
     "shell.execute_reply.started": "2025-08-29T01:02:02.58385Z"
    },
    "trusted": true
   },
   "outputs": [],
   "source": [
    "# Device Type vs Churn\n",
    "\n",
    "plt.figure(figsize=(6,4))\n",
    "sns.countplot(x=\"device_type\", hue=\"is_churned\", data=df, palette=\"Set3\")\n",
    "plt.title(\"Device Type vs Churn\")\n",
    "plt.show()"
   ]
  },
  {
   "cell_type": "code",
   "execution_count": null,
   "metadata": {
    "execution": {
     "iopub.execute_input": "2025-08-29T01:02:02.805396Z",
     "iopub.status.busy": "2025-08-29T01:02:02.805032Z",
     "iopub.status.idle": "2025-08-29T01:02:02.97784Z",
     "shell.execute_reply": "2025-08-29T01:02:02.976863Z",
     "shell.execute_reply.started": "2025-08-29T01:02:02.805364Z"
    },
    "trusted": true
   },
   "outputs": [],
   "source": [
    "# Offline Listening vs Churn\n",
    "\n",
    "plt.figure(figsize=(6,4))\n",
    "sns.countplot(x=\"offline_listening\", hue=\"is_churned\", data=df, palette=\"Set1\")\n",
    "plt.title(\"Offline Listening vs Churn\")\n",
    "plt.show()"
   ]
  },
  {
   "cell_type": "code",
   "execution_count": null,
   "metadata": {
    "execution": {
     "iopub.execute_input": "2025-08-29T01:02:02.979123Z",
     "iopub.status.busy": "2025-08-29T01:02:02.978856Z",
     "iopub.status.idle": "2025-08-29T01:02:03.322826Z",
     "shell.execute_reply": "2025-08-29T01:02:03.321781Z",
     "shell.execute_reply.started": "2025-08-29T01:02:02.979101Z"
    },
    "trusted": true
   },
   "outputs": [],
   "source": [
    "# Correlation with Churn (Numeric only)\n",
    "\n",
    "plt.figure(figsize=(8,6))\n",
    "sns.heatmap(df[['age','listening_time','songs_played_per_day','skip_rate','ads_listened_per_week','is_churned']].corr(),\n",
    "            annot=True, cmap=\"Blues\")\n",
    "plt.title(\"Correlation with Churn\")\n",
    "plt.show()"
   ]
  },
  {
   "cell_type": "markdown",
   "metadata": {},
   "source": [
    "# ML for Churn Analysis"
   ]
  },
  {
   "cell_type": "code",
   "execution_count": null,
   "metadata": {
    "execution": {
     "iopub.execute_input": "2025-08-29T01:02:03.324081Z",
     "iopub.status.busy": "2025-08-29T01:02:03.323803Z",
     "iopub.status.idle": "2025-08-29T01:02:03.339336Z",
     "shell.execute_reply": "2025-08-29T01:02:03.337833Z",
     "shell.execute_reply.started": "2025-08-29T01:02:03.32406Z"
    },
    "trusted": true
   },
   "outputs": [],
   "source": [
    "cat_cols = ['gender', 'country', 'subscription_type', 'device_type']\n",
    "\n",
    "df = pd.get_dummies(df, columns=cat_cols, drop_first=True)"
   ]
  },
  {
   "cell_type": "code",
   "execution_count": null,
   "metadata": {
    "execution": {
     "iopub.execute_input": "2025-08-29T01:02:03.340428Z",
     "iopub.status.busy": "2025-08-29T01:02:03.340155Z",
     "iopub.status.idle": "2025-08-29T01:02:03.360712Z",
     "shell.execute_reply": "2025-08-29T01:02:03.359428Z",
     "shell.execute_reply.started": "2025-08-29T01:02:03.340409Z"
    },
    "trusted": true
   },
   "outputs": [],
   "source": [
    "# Train-Test Split\n",
    "from sklearn.model_selection import train_test_split\n",
    "\n",
    "# Features (X) and target (y)\n",
    "X = df.drop('is_churned', axis=1)   # sirf Churn drop karna hai\n",
    "y = df['is_churned']\n",
    "\n",
    "# Split data: 80% train, 20% test\n",
    "X_train, X_test, y_train, y_test = train_test_split(\n",
    "    X, y, test_size=0.2, random_state=42, stratify=y\n",
    ")"
   ]
  },
  {
   "cell_type": "code",
   "execution_count": null,
   "metadata": {
    "execution": {
     "iopub.execute_input": "2025-08-29T01:02:03.362483Z",
     "iopub.status.busy": "2025-08-29T01:02:03.362172Z",
     "iopub.status.idle": "2025-08-29T01:02:03.541699Z",
     "shell.execute_reply": "2025-08-29T01:02:03.53979Z",
     "shell.execute_reply.started": "2025-08-29T01:02:03.362461Z"
    },
    "trusted": true
   },
   "outputs": [],
   "source": [
    "lr = LogisticRegression(max_iter=1000, random_state=42, class_weight=\"balanced\")\n",
    "lr.fit(X_train, y_train)\n",
    "y_pred_lr = lr.predict(X_test)\n",
    "\n",
    "print(\"Logistic Regression Accuracy:\", accuracy_score(y_test, y_pred_lr))\n",
    "print(classification_report(y_test, y_pred_lr))\n",
    "print(\"Confusion Matrix:\\n\", confusion_matrix(y_test, y_pred_lr))"
   ]
  },
  {
   "cell_type": "code",
   "execution_count": null,
   "metadata": {
    "execution": {
     "iopub.execute_input": "2025-08-29T01:02:03.551134Z",
     "iopub.status.busy": "2025-08-29T01:02:03.54889Z",
     "iopub.status.idle": "2025-08-29T01:02:03.667819Z",
     "shell.execute_reply": "2025-08-29T01:02:03.66693Z",
     "shell.execute_reply.started": "2025-08-29T01:02:03.551096Z"
    },
    "trusted": true
   },
   "outputs": [],
   "source": [
    "# Decision Tree\n",
    "\n",
    "dt = DecisionTreeClassifier(random_state=42, class_weight=\"balanced\")\n",
    "\n",
    "dt.fit(X_train, y_train)\n",
    "y_pred_dt = dt.predict(X_test)\n",
    "\n",
    "print(\"Decision Tree Accuracy:\", accuracy_score(y_test, y_pred_dt))\n",
    "print(classification_report(y_test, y_pred_dt))"
   ]
  },
  {
   "cell_type": "code",
   "execution_count": null,
   "metadata": {
    "execution": {
     "iopub.execute_input": "2025-08-29T01:02:03.668822Z",
     "iopub.status.busy": "2025-08-29T01:02:03.668503Z",
     "iopub.status.idle": "2025-08-29T01:02:05.01894Z",
     "shell.execute_reply": "2025-08-29T01:02:05.017227Z",
     "shell.execute_reply.started": "2025-08-29T01:02:03.668798Z"
    },
    "trusted": true
   },
   "outputs": [],
   "source": [
    "# Random Forest\n",
    "\n",
    "# Random Forest\n",
    "rf = RandomForestClassifier(random_state=42, class_weight=\"balanced\")\n",
    "\n",
    "rf.fit(X_train, y_train)\n",
    "y_pred_rf = rf.predict(X_test)\n",
    "\n",
    "print(\"Random Forest Accuracy:\", accuracy_score(y_test, y_pred_rf))\n",
    "print(classification_report(y_test, y_pred_rf))"
   ]
  },
  {
   "cell_type": "code",
   "execution_count": null,
   "metadata": {
    "execution": {
     "iopub.execute_input": "2025-08-29T01:02:05.020177Z",
     "iopub.status.busy": "2025-08-29T01:02:05.019802Z",
     "iopub.status.idle": "2025-08-29T01:02:20.97403Z",
     "shell.execute_reply": "2025-08-29T01:02:20.972921Z",
     "shell.execute_reply.started": "2025-08-29T01:02:05.020145Z"
    },
    "trusted": true
   },
   "outputs": [],
   "source": [
    "# SVM\n",
    "from sklearn.svm import SVC\n",
    "\n",
    "svm = SVC(random_state=42, class_weight=\"balanced\", probability=True)\n",
    "svm.fit(X_train, y_train)\n",
    "y_pred_svm = svm.predict(X_test)\n",
    "\n",
    "print(\"SVM Accuracy:\", accuracy_score(y_test, y_pred_svm))\n",
    "print(classification_report(y_test, y_pred_svm))"
   ]
  },
  {
   "cell_type": "code",
   "execution_count": null,
   "metadata": {
    "execution": {
     "iopub.execute_input": "2025-08-29T01:02:20.975318Z",
     "iopub.status.busy": "2025-08-29T01:02:20.975041Z",
     "iopub.status.idle": "2025-08-29T01:02:20.986541Z",
     "shell.execute_reply": "2025-08-29T01:02:20.98538Z",
     "shell.execute_reply.started": "2025-08-29T01:02:20.975296Z"
    },
    "trusted": true
   },
   "outputs": [],
   "source": [
    "results = {\n",
    "    \"Logistic Regression\": accuracy_score(y_test, y_pred_lr),\n",
    "    \"Decision Tree\": accuracy_score(y_test, y_pred_dt),\n",
    "    \"Random Forest\": accuracy_score(y_test, y_pred_rf),\n",
    "    \"SVM\": accuracy_score(y_test, y_pred_svm)\n",
    "}\n",
    "\n",
    "print(\"Model Comparison:\")\n",
    "for model, acc in results.items():\n",
    "    print(f\"{model}: {acc:.4f}\")"
   ]
  },
  {
   "cell_type": "code",
   "execution_count": null,
   "metadata": {
    "execution": {
     "iopub.execute_input": "2025-08-29T01:02:20.988273Z",
     "iopub.status.busy": "2025-08-29T01:02:20.987801Z",
     "iopub.status.idle": "2025-08-29T01:02:22.284853Z",
     "shell.execute_reply": "2025-08-29T01:02:22.2837Z",
     "shell.execute_reply.started": "2025-08-29T01:02:20.988248Z"
    },
    "trusted": true
   },
   "outputs": [],
   "source": [
    "# ROC Comparison\n",
    "\n",
    "from sklearn.metrics import roc_curve, roc_auc_score\n",
    "\n",
    "# Models already trained: lr, dt, rf, svm\n",
    "models = {\n",
    "    \"Logistic Regression\": lr,\n",
    "    \"Decision Tree\": dt,\n",
    "    \"Random Forest\": rf,\n",
    "    \"SVM\": svm\n",
    "}\n",
    "\n",
    "plt.figure(figsize=(8,6))\n",
    "\n",
    "for name, model in models.items():\n",
    "    # Predicted probabilities (for positive class = 1)\n",
    "    y_prob = model.predict_proba(X_test)[:,1]\n",
    "    \n",
    "    # ROC curve\n",
    "    fpr, tpr, _ = roc_curve(y_test, y_prob)\n",
    "    auc = roc_auc_score(y_test, y_prob)\n",
    "    \n",
    "    # Plot\n",
    "    plt.plot(fpr, tpr, label=f\"{name} (AUC = {auc:.2f})\")\n",
    "\n",
    "# Random guessing line\n",
    "plt.plot([0,1], [0,1], 'k--')\n",
    "\n",
    "plt.title(\"ROC Curve Comparison\")\n",
    "plt.xlabel(\"False Positive Rate\")\n",
    "plt.ylabel(\"True Positive Rate\")\n",
    "plt.legend()\n",
    "plt.show()"
   ]
  },
  {
   "cell_type": "code",
   "execution_count": null,
   "metadata": {
    "execution": {
     "iopub.execute_input": "2025-08-29T01:02:22.286461Z",
     "iopub.status.busy": "2025-08-29T01:02:22.286139Z",
     "iopub.status.idle": "2025-08-29T01:02:24.215304Z",
     "shell.execute_reply": "2025-08-29T01:02:24.214112Z",
     "shell.execute_reply.started": "2025-08-29T01:02:22.286438Z"
    },
    "trusted": true
   },
   "outputs": [],
   "source": [
    "from sklearn.metrics import accuracy_score, precision_score, recall_score, f1_score, roc_auc_score\n",
    "\n",
    "# Dictionary of models\n",
    "models = {\n",
    "    \"Logistic Regression\": lr,\n",
    "    \"Decision Tree\": dt,\n",
    "    \"Random Forest\": rf,\n",
    "    \"SVM\": svm\n",
    "}\n",
    "\n",
    "# Empty list to store results\n",
    "results = []\n",
    "\n",
    "# Loop over models\n",
    "for name, model in models.items():\n",
    "    # Predictions\n",
    "    y_pred = model.predict(X_test)\n",
    "    y_prob = model.predict_proba(X_test)[:,1]\n",
    "    \n",
    "    # Metrics\n",
    "    acc = accuracy_score(y_test, y_pred)\n",
    "    prec = precision_score(y_test, y_pred)\n",
    "    rec = recall_score(y_test, y_pred)\n",
    "    f1 = f1_score(y_test, y_pred)\n",
    "    auc = roc_auc_score(y_test, y_prob)\n",
    "    \n",
    "    results.append([name, acc, prec, rec, f1, auc])\n",
    "\n",
    "# Create DataFrame\n",
    "results_df = pd.DataFrame(results, columns=[\"Model\", \"Accuracy\", \"Precision\", \"Recall\", \"F1-Score\", \"AUC\"])\n",
    "\n",
    "print(results_df)"
   ]
  },
  {
   "cell_type": "code",
   "execution_count": null,
   "metadata": {
    "execution": {
     "iopub.execute_input": "2025-08-29T01:02:24.217089Z",
     "iopub.status.busy": "2025-08-29T01:02:24.216765Z",
     "iopub.status.idle": "2025-08-29T01:03:50.754842Z",
     "shell.execute_reply": "2025-08-29T01:03:50.753448Z",
     "shell.execute_reply.started": "2025-08-29T01:02:24.217066Z"
    },
    "trusted": true
   },
   "outputs": [],
   "source": [
    "from sklearn.model_selection import cross_val_score\n",
    "from sklearn.metrics import confusion_matrix\n",
    "import seaborn as sns\n",
    "import matplotlib.pyplot as plt\n",
    "\n",
    "# Dictionary of models (already trained before)\n",
    "models = {\n",
    "    \"Logistic Regression\": lr,\n",
    "    \"Decision Tree\": dt,\n",
    "    \"Random Forest\": rf,\n",
    "    \"SVM\": svm\n",
    "}\n",
    "\n",
    "# --- 1. Cross Validation (5-fold) ---\n",
    "print(\"==== Cross Validation Results ====\")\n",
    "for name, model in models.items():\n",
    "    cv_scores = cross_val_score(model, X, y, cv=5, scoring='accuracy')\n",
    "    print(f\"{name}: Mean Accuracy = {cv_scores.mean():.4f}, Scores = {cv_scores}\")\n",
    "\n",
    "# --- 2. Confusion Matrices ---\n",
    "print(\"\\n==== Confusion Matrices on Test Set ====\")\n",
    "for name, model in models.items():\n",
    "    y_pred = model.predict(X_test)\n",
    "    cm = confusion_matrix(y_test, y_pred)\n",
    "\n",
    "    plt.figure(figsize=(4,3))\n",
    "    sns.heatmap(cm, annot=True, fmt='d', cmap='Blues')\n",
    "    plt.title(f\"Confusion Matrix - {name}\")\n",
    "    plt.xlabel(\"Predicted\")\n",
    "    plt.ylabel(\"Actual\")\n",
    "    plt.show()"
   ]
  },
  {
   "cell_type": "markdown",
   "metadata": {},
   "source": [
    "# Overall Insights:\n",
    "Accuracy is misleading → high accuracy does not mean churn is detected.\n",
    "\n",
    "Random Forest → best overall accuracy but almost ignores churn.\n",
    "\n",
    "Decision Tree / Logistic Regression / SVM → sometimes detect churn but results inconsistent.\n",
    "\n",
    "Cross-validation confirms → Random Forest is stable for accuracy; others fluctuate."
   ]
  }
 ],
 "metadata": {
  "kaggle": {
   "accelerator": "none",
   "dataSources": [
    {
     "datasetId": 8162411,
     "sourceId": 12900544,
     "sourceType": "datasetVersion"
    }
   ],
   "dockerImageVersionId": 31089,
   "isGpuEnabled": false,
   "isInternetEnabled": false,
   "language": "python",
   "sourceType": "notebook"
  },
  "kernelspec": {
   "display_name": "Python 3",
   "language": "python",
   "name": "python3"
  },
  "language_info": {
   "codemirror_mode": {
    "name": "ipython",
    "version": 3
   },
   "file_extension": ".py",
   "mimetype": "text/x-python",
   "name": "python",
   "nbconvert_exporter": "python",
   "pygments_lexer": "ipython3",
   "version": "3.11.13"
  }
 },
 "nbformat": 4,
 "nbformat_minor": 4
}
