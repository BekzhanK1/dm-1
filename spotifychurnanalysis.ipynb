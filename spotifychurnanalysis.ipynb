{
 "cells": [
  {
   "cell_type": "code",
   "execution_count": 1,
   "id": "a3e4b96d",
   "metadata": {
    "execution": {
     "iopub.execute_input": "2025-10-06T18:15:54.945961Z",
     "iopub.status.busy": "2025-10-06T18:15:54.945625Z",
     "iopub.status.idle": "2025-10-06T18:15:55.418547Z",
     "shell.execute_reply": "2025-10-06T18:15:55.417409Z"
    },
    "executionInfo": {
     "elapsed": 6300,
     "status": "ok",
     "timestamp": 1759771568984,
     "user": {
      "displayName": "Sheral Waskar",
      "userId": "04026476592042756494"
     },
     "user_tz": -330
    },
    "id": "nVT6H1Kl4Z79",
    "outputId": "ad80b46b-c463-469d-94fb-0533f66bc3b4",
    "papermill": {
     "duration": 0.484645,
     "end_time": "2025-10-06T18:15:55.419942",
     "exception": false,
     "start_time": "2025-10-06T18:15:54.935297",
     "status": "completed"
    },
    "tags": []
   },
   "outputs": [
    {
     "name": "stdout",
     "output_type": "stream",
     "text": [
      "Data source import complete.\n"
     ]
    }
   ],
   "source": [
    "# IMPORTANT: RUN THIS CELL IN ORDER TO IMPORT YOUR KAGGLE DATA SOURCES,\n",
    "# THEN FEEL FREE TO DELETE THIS CELL.\n",
    "# NOTE: THIS NOTEBOOK ENVIRONMENT DIFFERS FROM KAGGLE'S PYTHON\n",
    "# ENVIRONMENT SO THERE MAY BE MISSING LIBRARIES USED BY YOUR\n",
    "# NOTEBOOK.\n",
    "import kagglehub\n",
    "nabihazahid_spotify_dataset_for_churn_analysis_path = kagglehub.dataset_download('nabihazahid/spotify-dataset-for-churn-analysis')\n",
    "\n",
    "print('Data source import complete.')\n"
   ]
  },
  {
   "cell_type": "code",
   "execution_count": 2,
   "id": "921af563",
   "metadata": {
    "execution": {
     "iopub.execute_input": "2025-10-06T18:15:55.436742Z",
     "iopub.status.busy": "2025-10-06T18:15:55.436442Z",
     "iopub.status.idle": "2025-10-06T18:15:57.381875Z",
     "shell.execute_reply": "2025-10-06T18:15:57.380781Z"
    },
    "executionInfo": {
     "elapsed": 49,
     "status": "ok",
     "timestamp": 1759771572805,
     "user": {
      "displayName": "Sheral Waskar",
      "userId": "04026476592042756494"
     },
     "user_tz": -330
    },
    "id": "C1yZ5xie4cLN",
    "outputId": "027decb1-e6a1-429e-8de6-075c40ba07c2",
    "papermill": {
     "duration": 1.955562,
     "end_time": "2025-10-06T18:15:57.383407",
     "exception": false,
     "start_time": "2025-10-06T18:15:55.427845",
     "status": "completed"
    },
    "tags": []
   },
   "outputs": [
    {
     "name": "stdout",
     "output_type": "stream",
     "text": [
      "/kaggle/input/spotify-dataset-for-churn-analysis/spotify_churn_dataset.csv\n"
     ]
    }
   ],
   "source": [
    "# This Python 3 environment comes with many helpful analytics libraries installed\n",
    "# It is defined by the kaggle/python Docker image: https://github.com/kaggle/docker-python\n",
    "# For example, here's several helpful packages to load\n",
    "\n",
    "import numpy as np # linear algebra\n",
    "import pandas as pd # data processing, CSV file I/O (e.g. pd.read_csv)\n",
    "\n",
    "# Input data files are available in the read-only \"../input/\" directory\n",
    "# For example, running this (by clicking run or pressing Shift+Enter) will list all files under the input directory\n",
    "\n",
    "import os\n",
    "for dirname, _, filenames in os.walk('/kaggle/input'):\n",
    "    for filename in filenames:\n",
    "        print(os.path.join(dirname, filename))\n",
    "\n",
    "# You can write up to 20GB to the current directory (/kaggle/working/) that gets preserved as output when you create a version using \"Save & Run All\"\n",
    "# You can also write temporary files to /kaggle/temp/, but they won't be saved outside of the current session"
   ]
  },
  {
   "cell_type": "markdown",
   "id": "31705ce0",
   "metadata": {
    "id": "rAETOjME42y3",
    "papermill": {
     "duration": 0.007207,
     "end_time": "2025-10-06T18:15:57.398365",
     "exception": false,
     "start_time": "2025-10-06T18:15:57.391158",
     "status": "completed"
    },
    "tags": []
   },
   "source": [
    "**LOADING THE DATASET**"
   ]
  },
  {
   "cell_type": "code",
   "execution_count": 3,
   "id": "b62bc8f4",
   "metadata": {
    "execution": {
     "iopub.execute_input": "2025-10-06T18:15:57.414826Z",
     "iopub.status.busy": "2025-10-06T18:15:57.414400Z",
     "iopub.status.idle": "2025-10-06T18:15:57.484980Z",
     "shell.execute_reply": "2025-10-06T18:15:57.484120Z"
    },
    "executionInfo": {
     "elapsed": 148,
     "status": "ok",
     "timestamp": 1759771575617,
     "user": {
      "displayName": "Sheral Waskar",
      "userId": "04026476592042756494"
     },
     "user_tz": -330
    },
    "id": "8LmsZb0N4kxD",
    "outputId": "b7be035d-1d44-4f2b-e133-3791de38e972",
    "papermill": {
     "duration": 0.080864,
     "end_time": "2025-10-06T18:15:57.486676",
     "exception": false,
     "start_time": "2025-10-06T18:15:57.405812",
     "status": "completed"
    },
    "tags": []
   },
   "outputs": [
    {
     "data": {
      "text/html": [
       "<div>\n",
       "<style scoped>\n",
       "    .dataframe tbody tr th:only-of-type {\n",
       "        vertical-align: middle;\n",
       "    }\n",
       "\n",
       "    .dataframe tbody tr th {\n",
       "        vertical-align: top;\n",
       "    }\n",
       "\n",
       "    .dataframe thead th {\n",
       "        text-align: right;\n",
       "    }\n",
       "</style>\n",
       "<table border=\"1\" class=\"dataframe\">\n",
       "  <thead>\n",
       "    <tr style=\"text-align: right;\">\n",
       "      <th></th>\n",
       "      <th>user_id</th>\n",
       "      <th>gender</th>\n",
       "      <th>age</th>\n",
       "      <th>country</th>\n",
       "      <th>subscription_type</th>\n",
       "      <th>listening_time</th>\n",
       "      <th>songs_played_per_day</th>\n",
       "      <th>skip_rate</th>\n",
       "      <th>device_type</th>\n",
       "      <th>ads_listened_per_week</th>\n",
       "      <th>offline_listening</th>\n",
       "      <th>is_churned</th>\n",
       "    </tr>\n",
       "  </thead>\n",
       "  <tbody>\n",
       "    <tr>\n",
       "      <th>0</th>\n",
       "      <td>1</td>\n",
       "      <td>Female</td>\n",
       "      <td>54</td>\n",
       "      <td>CA</td>\n",
       "      <td>Free</td>\n",
       "      <td>26</td>\n",
       "      <td>23</td>\n",
       "      <td>0.20</td>\n",
       "      <td>Desktop</td>\n",
       "      <td>31</td>\n",
       "      <td>0</td>\n",
       "      <td>1</td>\n",
       "    </tr>\n",
       "    <tr>\n",
       "      <th>1</th>\n",
       "      <td>2</td>\n",
       "      <td>Other</td>\n",
       "      <td>33</td>\n",
       "      <td>DE</td>\n",
       "      <td>Family</td>\n",
       "      <td>141</td>\n",
       "      <td>62</td>\n",
       "      <td>0.34</td>\n",
       "      <td>Web</td>\n",
       "      <td>0</td>\n",
       "      <td>1</td>\n",
       "      <td>0</td>\n",
       "    </tr>\n",
       "    <tr>\n",
       "      <th>2</th>\n",
       "      <td>3</td>\n",
       "      <td>Male</td>\n",
       "      <td>38</td>\n",
       "      <td>AU</td>\n",
       "      <td>Premium</td>\n",
       "      <td>199</td>\n",
       "      <td>38</td>\n",
       "      <td>0.04</td>\n",
       "      <td>Mobile</td>\n",
       "      <td>0</td>\n",
       "      <td>1</td>\n",
       "      <td>1</td>\n",
       "    </tr>\n",
       "    <tr>\n",
       "      <th>3</th>\n",
       "      <td>4</td>\n",
       "      <td>Female</td>\n",
       "      <td>22</td>\n",
       "      <td>CA</td>\n",
       "      <td>Student</td>\n",
       "      <td>36</td>\n",
       "      <td>2</td>\n",
       "      <td>0.31</td>\n",
       "      <td>Mobile</td>\n",
       "      <td>0</td>\n",
       "      <td>1</td>\n",
       "      <td>0</td>\n",
       "    </tr>\n",
       "    <tr>\n",
       "      <th>4</th>\n",
       "      <td>5</td>\n",
       "      <td>Other</td>\n",
       "      <td>29</td>\n",
       "      <td>US</td>\n",
       "      <td>Family</td>\n",
       "      <td>250</td>\n",
       "      <td>57</td>\n",
       "      <td>0.36</td>\n",
       "      <td>Mobile</td>\n",
       "      <td>0</td>\n",
       "      <td>1</td>\n",
       "      <td>1</td>\n",
       "    </tr>\n",
       "    <tr>\n",
       "      <th>...</th>\n",
       "      <td>...</td>\n",
       "      <td>...</td>\n",
       "      <td>...</td>\n",
       "      <td>...</td>\n",
       "      <td>...</td>\n",
       "      <td>...</td>\n",
       "      <td>...</td>\n",
       "      <td>...</td>\n",
       "      <td>...</td>\n",
       "      <td>...</td>\n",
       "      <td>...</td>\n",
       "      <td>...</td>\n",
       "    </tr>\n",
       "    <tr>\n",
       "      <th>7995</th>\n",
       "      <td>7996</td>\n",
       "      <td>Other</td>\n",
       "      <td>44</td>\n",
       "      <td>DE</td>\n",
       "      <td>Student</td>\n",
       "      <td>237</td>\n",
       "      <td>36</td>\n",
       "      <td>0.30</td>\n",
       "      <td>Mobile</td>\n",
       "      <td>0</td>\n",
       "      <td>1</td>\n",
       "      <td>1</td>\n",
       "    </tr>\n",
       "    <tr>\n",
       "      <th>7996</th>\n",
       "      <td>7997</td>\n",
       "      <td>Male</td>\n",
       "      <td>34</td>\n",
       "      <td>AU</td>\n",
       "      <td>Premium</td>\n",
       "      <td>61</td>\n",
       "      <td>64</td>\n",
       "      <td>0.59</td>\n",
       "      <td>Mobile</td>\n",
       "      <td>0</td>\n",
       "      <td>1</td>\n",
       "      <td>0</td>\n",
       "    </tr>\n",
       "    <tr>\n",
       "      <th>7997</th>\n",
       "      <td>7998</td>\n",
       "      <td>Female</td>\n",
       "      <td>17</td>\n",
       "      <td>US</td>\n",
       "      <td>Free</td>\n",
       "      <td>81</td>\n",
       "      <td>62</td>\n",
       "      <td>0.33</td>\n",
       "      <td>Desktop</td>\n",
       "      <td>5</td>\n",
       "      <td>0</td>\n",
       "      <td>0</td>\n",
       "    </tr>\n",
       "    <tr>\n",
       "      <th>7998</th>\n",
       "      <td>7999</td>\n",
       "      <td>Female</td>\n",
       "      <td>34</td>\n",
       "      <td>IN</td>\n",
       "      <td>Student</td>\n",
       "      <td>245</td>\n",
       "      <td>94</td>\n",
       "      <td>0.27</td>\n",
       "      <td>Desktop</td>\n",
       "      <td>0</td>\n",
       "      <td>1</td>\n",
       "      <td>0</td>\n",
       "    </tr>\n",
       "    <tr>\n",
       "      <th>7999</th>\n",
       "      <td>8000</td>\n",
       "      <td>Other</td>\n",
       "      <td>45</td>\n",
       "      <td>AU</td>\n",
       "      <td>Free</td>\n",
       "      <td>210</td>\n",
       "      <td>68</td>\n",
       "      <td>0.46</td>\n",
       "      <td>Desktop</td>\n",
       "      <td>6</td>\n",
       "      <td>0</td>\n",
       "      <td>0</td>\n",
       "    </tr>\n",
       "  </tbody>\n",
       "</table>\n",
       "<p>8000 rows × 12 columns</p>\n",
       "</div>"
      ],
      "text/plain": [
       "      user_id  gender  age country subscription_type  listening_time  \\\n",
       "0           1  Female   54      CA              Free              26   \n",
       "1           2   Other   33      DE            Family             141   \n",
       "2           3    Male   38      AU           Premium             199   \n",
       "3           4  Female   22      CA           Student              36   \n",
       "4           5   Other   29      US            Family             250   \n",
       "...       ...     ...  ...     ...               ...             ...   \n",
       "7995     7996   Other   44      DE           Student             237   \n",
       "7996     7997    Male   34      AU           Premium              61   \n",
       "7997     7998  Female   17      US              Free              81   \n",
       "7998     7999  Female   34      IN           Student             245   \n",
       "7999     8000   Other   45      AU              Free             210   \n",
       "\n",
       "      songs_played_per_day  skip_rate device_type  ads_listened_per_week  \\\n",
       "0                       23       0.20     Desktop                     31   \n",
       "1                       62       0.34         Web                      0   \n",
       "2                       38       0.04      Mobile                      0   \n",
       "3                        2       0.31      Mobile                      0   \n",
       "4                       57       0.36      Mobile                      0   \n",
       "...                    ...        ...         ...                    ...   \n",
       "7995                    36       0.30      Mobile                      0   \n",
       "7996                    64       0.59      Mobile                      0   \n",
       "7997                    62       0.33     Desktop                      5   \n",
       "7998                    94       0.27     Desktop                      0   \n",
       "7999                    68       0.46     Desktop                      6   \n",
       "\n",
       "      offline_listening  is_churned  \n",
       "0                     0           1  \n",
       "1                     1           0  \n",
       "2                     1           1  \n",
       "3                     1           0  \n",
       "4                     1           1  \n",
       "...                 ...         ...  \n",
       "7995                  1           1  \n",
       "7996                  1           0  \n",
       "7997                  0           0  \n",
       "7998                  1           0  \n",
       "7999                  0           0  \n",
       "\n",
       "[8000 rows x 12 columns]"
      ]
     },
     "execution_count": 3,
     "metadata": {},
     "output_type": "execute_result"
    }
   ],
   "source": [
    "df = pd.read_csv(\"/kaggle/input/spotify-dataset-for-churn-analysis/spotify_churn_dataset.csv\")\n",
    "df"
   ]
  },
  {
   "cell_type": "markdown",
   "id": "f300f436",
   "metadata": {
    "id": "SkAvBwLwGSPO",
    "papermill": {
     "duration": 0.007681,
     "end_time": "2025-10-06T18:15:57.502626",
     "exception": false,
     "start_time": "2025-10-06T18:15:57.494945",
     "status": "completed"
    },
    "tags": []
   },
   "source": [
    "**Motive**\n",
    "\n",
    "\n",
    "To predict whether a Spotify user will churn (cancel subscription) or remain active.\n",
    "This helps in understanding user engagement patterns and building strategies to reduce churn."
   ]
  },
  {
   "cell_type": "markdown",
   "id": "040b7f4c",
   "metadata": {
    "id": "wiFTRAy3GlEG",
    "papermill": {
     "duration": 0.007834,
     "end_time": "2025-10-06T18:15:57.518232",
     "exception": false,
     "start_time": "2025-10-06T18:15:57.510398",
     "status": "completed"
    },
    "tags": []
   },
   "source": [
    "**Dataset Overview**\n",
    "\n",
    "\n",
    "Rows: Each row represents a unique Spotify user\n",
    "\n",
    "\n",
    "Columns (Features): Mix of numerical and categorical data"
   ]
  },
  {
   "cell_type": "markdown",
   "id": "ab537013",
   "metadata": {
    "id": "uIMiVdXTHqAH",
    "papermill": {
     "duration": 0.007434,
     "end_time": "2025-10-06T18:15:57.533818",
     "exception": false,
     "start_time": "2025-10-06T18:15:57.526384",
     "status": "completed"
    },
    "tags": []
   },
   "source": [
    "**Features Description**\n",
    "\n",
    "\n",
    "user_id → Unique identifier for each user\n",
    "\n",
    "\n",
    "gender → User gender (Male / Female / Other)\n",
    "\n",
    "\n",
    "age → User’s age\n",
    "\n",
    "\n",
    "country → User’s location\n",
    "\n",
    "\n",
    "subscription_type → Type of Spotify subscription (Free / Premium / Family / Student)\n",
    "\n",
    "\n",
    "listening_time → Minutes spent listening per day\n",
    "\n",
    "\n",
    "songs_played_per_day → Number of songs played daily\n",
    "\n",
    "\n",
    "skip_rate → Percentage of songs skipped\n",
    "\n",
    "\n",
    "device_type → Device used (Mobile / Desktop / Web)\n",
    "\n",
    "\n",
    "ads_listened_per_week → Number of ads heard per week\n",
    "\n",
    "\n",
    "offline_listening → Offline listening minutes\n",
    "\n",
    "\n",
    "is_churned (Target Variable) →\n",
    "0 → Active user\n",
    "1 → Churned (cancelled subscription)\n"
   ]
  },
  {
   "cell_type": "code",
   "execution_count": null,
   "id": "4fe1758e",
   "metadata": {
    "id": "9zpt4sWDGVvF",
    "papermill": {
     "duration": 0.007412,
     "end_time": "2025-10-06T18:15:57.548885",
     "exception": false,
     "start_time": "2025-10-06T18:15:57.541473",
     "status": "completed"
    },
    "tags": []
   },
   "outputs": [],
   "source": []
  },
  {
   "cell_type": "code",
   "execution_count": 4,
   "id": "1e0a4d3d",
   "metadata": {
    "execution": {
     "iopub.execute_input": "2025-10-06T18:15:57.565675Z",
     "iopub.status.busy": "2025-10-06T18:15:57.565351Z",
     "iopub.status.idle": "2025-10-06T18:15:57.601457Z",
     "shell.execute_reply": "2025-10-06T18:15:57.600374Z"
    },
    "executionInfo": {
     "elapsed": 56,
     "status": "ok",
     "timestamp": 1759771580023,
     "user": {
      "displayName": "Sheral Waskar",
      "userId": "04026476592042756494"
     },
     "user_tz": -330
    },
    "id": "vO7vWqU0H32c",
    "outputId": "1adde584-8d0e-484d-a1eb-4ee5ce2ee001",
    "papermill": {
     "duration": 0.046444,
     "end_time": "2025-10-06T18:15:57.603083",
     "exception": false,
     "start_time": "2025-10-06T18:15:57.556639",
     "status": "completed"
    },
    "tags": []
   },
   "outputs": [
    {
     "name": "stdout",
     "output_type": "stream",
     "text": [
      "Descriptive Statistics:\n"
     ]
    },
    {
     "data": {
      "text/html": [
       "<div>\n",
       "<style scoped>\n",
       "    .dataframe tbody tr th:only-of-type {\n",
       "        vertical-align: middle;\n",
       "    }\n",
       "\n",
       "    .dataframe tbody tr th {\n",
       "        vertical-align: top;\n",
       "    }\n",
       "\n",
       "    .dataframe thead th {\n",
       "        text-align: right;\n",
       "    }\n",
       "</style>\n",
       "<table border=\"1\" class=\"dataframe\">\n",
       "  <thead>\n",
       "    <tr style=\"text-align: right;\">\n",
       "      <th></th>\n",
       "      <th>count</th>\n",
       "      <th>mean</th>\n",
       "      <th>std</th>\n",
       "      <th>min</th>\n",
       "      <th>25%</th>\n",
       "      <th>50%</th>\n",
       "      <th>75%</th>\n",
       "      <th>max</th>\n",
       "    </tr>\n",
       "  </thead>\n",
       "  <tbody>\n",
       "    <tr>\n",
       "      <th>user_id</th>\n",
       "      <td>8000.0</td>\n",
       "      <td>4000.500000</td>\n",
       "      <td>2309.545410</td>\n",
       "      <td>1.0</td>\n",
       "      <td>2000.75</td>\n",
       "      <td>4000.5</td>\n",
       "      <td>6000.25</td>\n",
       "      <td>8000.0</td>\n",
       "    </tr>\n",
       "    <tr>\n",
       "      <th>age</th>\n",
       "      <td>8000.0</td>\n",
       "      <td>37.662125</td>\n",
       "      <td>12.740359</td>\n",
       "      <td>16.0</td>\n",
       "      <td>26.00</td>\n",
       "      <td>38.0</td>\n",
       "      <td>49.00</td>\n",
       "      <td>59.0</td>\n",
       "    </tr>\n",
       "    <tr>\n",
       "      <th>listening_time</th>\n",
       "      <td>8000.0</td>\n",
       "      <td>154.068250</td>\n",
       "      <td>84.015596</td>\n",
       "      <td>10.0</td>\n",
       "      <td>81.00</td>\n",
       "      <td>154.0</td>\n",
       "      <td>227.00</td>\n",
       "      <td>299.0</td>\n",
       "    </tr>\n",
       "    <tr>\n",
       "      <th>songs_played_per_day</th>\n",
       "      <td>8000.0</td>\n",
       "      <td>50.127250</td>\n",
       "      <td>28.449762</td>\n",
       "      <td>1.0</td>\n",
       "      <td>25.00</td>\n",
       "      <td>50.0</td>\n",
       "      <td>75.00</td>\n",
       "      <td>99.0</td>\n",
       "    </tr>\n",
       "    <tr>\n",
       "      <th>skip_rate</th>\n",
       "      <td>8000.0</td>\n",
       "      <td>0.300127</td>\n",
       "      <td>0.173594</td>\n",
       "      <td>0.0</td>\n",
       "      <td>0.15</td>\n",
       "      <td>0.3</td>\n",
       "      <td>0.45</td>\n",
       "      <td>0.6</td>\n",
       "    </tr>\n",
       "    <tr>\n",
       "      <th>ads_listened_per_week</th>\n",
       "      <td>8000.0</td>\n",
       "      <td>6.943875</td>\n",
       "      <td>13.617953</td>\n",
       "      <td>0.0</td>\n",
       "      <td>0.00</td>\n",
       "      <td>0.0</td>\n",
       "      <td>5.00</td>\n",
       "      <td>49.0</td>\n",
       "    </tr>\n",
       "    <tr>\n",
       "      <th>offline_listening</th>\n",
       "      <td>8000.0</td>\n",
       "      <td>0.747750</td>\n",
       "      <td>0.434331</td>\n",
       "      <td>0.0</td>\n",
       "      <td>0.00</td>\n",
       "      <td>1.0</td>\n",
       "      <td>1.00</td>\n",
       "      <td>1.0</td>\n",
       "    </tr>\n",
       "    <tr>\n",
       "      <th>is_churned</th>\n",
       "      <td>8000.0</td>\n",
       "      <td>0.258875</td>\n",
       "      <td>0.438044</td>\n",
       "      <td>0.0</td>\n",
       "      <td>0.00</td>\n",
       "      <td>0.0</td>\n",
       "      <td>1.00</td>\n",
       "      <td>1.0</td>\n",
       "    </tr>\n",
       "  </tbody>\n",
       "</table>\n",
       "</div>"
      ],
      "text/plain": [
       "                        count         mean          std   min      25%  \\\n",
       "user_id                8000.0  4000.500000  2309.545410   1.0  2000.75   \n",
       "age                    8000.0    37.662125    12.740359  16.0    26.00   \n",
       "listening_time         8000.0   154.068250    84.015596  10.0    81.00   \n",
       "songs_played_per_day   8000.0    50.127250    28.449762   1.0    25.00   \n",
       "skip_rate              8000.0     0.300127     0.173594   0.0     0.15   \n",
       "ads_listened_per_week  8000.0     6.943875    13.617953   0.0     0.00   \n",
       "offline_listening      8000.0     0.747750     0.434331   0.0     0.00   \n",
       "is_churned             8000.0     0.258875     0.438044   0.0     0.00   \n",
       "\n",
       "                          50%      75%     max  \n",
       "user_id                4000.5  6000.25  8000.0  \n",
       "age                      38.0    49.00    59.0  \n",
       "listening_time          154.0   227.00   299.0  \n",
       "songs_played_per_day     50.0    75.00    99.0  \n",
       "skip_rate                 0.3     0.45     0.6  \n",
       "ads_listened_per_week     0.0     5.00    49.0  \n",
       "offline_listening         1.0     1.00     1.0  \n",
       "is_churned                0.0     1.00     1.0  "
      ]
     },
     "metadata": {},
     "output_type": "display_data"
    }
   ],
   "source": [
    "print(\"Descriptive Statistics:\")\n",
    "display(df.describe().T)"
   ]
  },
  {
   "cell_type": "code",
   "execution_count": 5,
   "id": "032bfb7b",
   "metadata": {
    "execution": {
     "iopub.execute_input": "2025-10-06T18:15:57.621652Z",
     "iopub.status.busy": "2025-10-06T18:15:57.620700Z",
     "iopub.status.idle": "2025-10-06T18:15:57.643139Z",
     "shell.execute_reply": "2025-10-06T18:15:57.641883Z"
    },
    "executionInfo": {
     "elapsed": 20,
     "status": "ok",
     "timestamp": 1759771582521,
     "user": {
      "displayName": "Sheral Waskar",
      "userId": "04026476592042756494"
     },
     "user_tz": -330
    },
    "id": "GQG7HV-UIt6s",
    "outputId": "3068a53c-a1c5-45dc-8a0f-0bdf2a23f1fb",
    "papermill": {
     "duration": 0.032971,
     "end_time": "2025-10-06T18:15:57.644517",
     "exception": false,
     "start_time": "2025-10-06T18:15:57.611546",
     "status": "completed"
    },
    "tags": []
   },
   "outputs": [
    {
     "name": "stdout",
     "output_type": "stream",
     "text": [
      "<class 'pandas.core.frame.DataFrame'>\n",
      "RangeIndex: 8000 entries, 0 to 7999\n",
      "Data columns (total 12 columns):\n",
      " #   Column                 Non-Null Count  Dtype  \n",
      "---  ------                 --------------  -----  \n",
      " 0   user_id                8000 non-null   int64  \n",
      " 1   gender                 8000 non-null   object \n",
      " 2   age                    8000 non-null   int64  \n",
      " 3   country                8000 non-null   object \n",
      " 4   subscription_type      8000 non-null   object \n",
      " 5   listening_time         8000 non-null   int64  \n",
      " 6   songs_played_per_day   8000 non-null   int64  \n",
      " 7   skip_rate              8000 non-null   float64\n",
      " 8   device_type            8000 non-null   object \n",
      " 9   ads_listened_per_week  8000 non-null   int64  \n",
      " 10  offline_listening      8000 non-null   int64  \n",
      " 11  is_churned             8000 non-null   int64  \n",
      "dtypes: float64(1), int64(7), object(4)\n",
      "memory usage: 750.1+ KB\n"
     ]
    }
   ],
   "source": [
    "df.info()"
   ]
  },
  {
   "cell_type": "code",
   "execution_count": 6,
   "id": "2f557066",
   "metadata": {
    "execution": {
     "iopub.execute_input": "2025-10-06T18:15:57.662050Z",
     "iopub.status.busy": "2025-10-06T18:15:57.661723Z",
     "iopub.status.idle": "2025-10-06T18:15:57.667280Z",
     "shell.execute_reply": "2025-10-06T18:15:57.666512Z"
    },
    "executionInfo": {
     "elapsed": 46,
     "status": "ok",
     "timestamp": 1759771584847,
     "user": {
      "displayName": "Sheral Waskar",
      "userId": "04026476592042756494"
     },
     "user_tz": -330
    },
    "id": "6gjKg54EItx9",
    "outputId": "f639bf56-b0b0-4b35-c4ab-fdde2c888c26",
    "papermill": {
     "duration": 0.015806,
     "end_time": "2025-10-06T18:15:57.668631",
     "exception": false,
     "start_time": "2025-10-06T18:15:57.652825",
     "status": "completed"
    },
    "tags": []
   },
   "outputs": [
    {
     "data": {
      "text/plain": [
       "(8000, 12)"
      ]
     },
     "execution_count": 6,
     "metadata": {},
     "output_type": "execute_result"
    }
   ],
   "source": [
    "df.shape"
   ]
  },
  {
   "cell_type": "markdown",
   "id": "3d962754",
   "metadata": {
    "id": "AjKGchh2KCTp",
    "papermill": {
     "duration": 0.008257,
     "end_time": "2025-10-06T18:15:57.685649",
     "exception": false,
     "start_time": "2025-10-06T18:15:57.677392",
     "status": "completed"
    },
    "tags": []
   },
   "source": [
    "**Visualisation**"
   ]
  },
  {
   "cell_type": "code",
   "execution_count": 7,
   "id": "d8e7dd74",
   "metadata": {
    "execution": {
     "iopub.execute_input": "2025-10-06T18:15:57.703738Z",
     "iopub.status.busy": "2025-10-06T18:15:57.703420Z",
     "iopub.status.idle": "2025-10-06T18:15:59.486173Z",
     "shell.execute_reply": "2025-10-06T18:15:59.485189Z"
    },
    "executionInfo": {
     "elapsed": 479,
     "status": "ok",
     "timestamp": 1759771586917,
     "user": {
      "displayName": "Sheral Waskar",
      "userId": "04026476592042756494"
     },
     "user_tz": -330
    },
    "id": "LfpOcSeDJjrz",
    "papermill": {
     "duration": 1.793676,
     "end_time": "2025-10-06T18:15:59.487777",
     "exception": false,
     "start_time": "2025-10-06T18:15:57.694101",
     "status": "completed"
    },
    "tags": []
   },
   "outputs": [],
   "source": [
    "import matplotlib.pyplot as plt\n",
    "import seaborn as sns"
   ]
  },
  {
   "cell_type": "code",
   "execution_count": 8,
   "id": "6646b6c0",
   "metadata": {
    "execution": {
     "iopub.execute_input": "2025-10-06T18:15:59.507667Z",
     "iopub.status.busy": "2025-10-06T18:15:59.507224Z",
     "iopub.status.idle": "2025-10-06T18:15:59.529115Z",
     "shell.execute_reply": "2025-10-06T18:15:59.528076Z"
    },
    "executionInfo": {
     "elapsed": 19,
     "status": "ok",
     "timestamp": 1759771589352,
     "user": {
      "displayName": "Sheral Waskar",
      "userId": "04026476592042756494"
     },
     "user_tz": -330
    },
    "id": "b5kegCrxKd8i",
    "outputId": "f9f9eaee-e123-4690-8d0d-d40d3a3ec55d",
    "papermill": {
     "duration": 0.033757,
     "end_time": "2025-10-06T18:15:59.530878",
     "exception": false,
     "start_time": "2025-10-06T18:15:59.497121",
     "status": "completed"
    },
    "tags": []
   },
   "outputs": [
    {
     "name": "stdout",
     "output_type": "stream",
     "text": [
      " Unqiue categories in user_id\n",
      "user_id\n",
      "1       1\n",
      "5330    1\n",
      "5343    1\n",
      "5342    1\n",
      "5341    1\n",
      "       ..\n",
      "2662    1\n",
      "2661    1\n",
      "2660    1\n",
      "2659    1\n",
      "8000    1\n",
      "Name: count, Length: 8000, dtype: int64\n",
      "\n",
      "----------------------------------------\n",
      "\n",
      " Unqiue categories in gender\n",
      "gender\n",
      "Male      2691\n",
      "Female    2659\n",
      "Other     2650\n",
      "Name: count, dtype: int64\n",
      "\n",
      "----------------------------------------\n",
      "\n",
      " Unqiue categories in age\n",
      "age\n",
      "51    207\n",
      "37    202\n",
      "57    202\n",
      "20    202\n",
      "49    200\n",
      "22    200\n",
      "42    199\n",
      "21    199\n",
      "41    196\n",
      "46    192\n",
      "30    192\n",
      "52    190\n",
      "47    190\n",
      "48    188\n",
      "33    186\n",
      "18    185\n",
      "53    185\n",
      "59    184\n",
      "50    184\n",
      "32    184\n",
      "58    183\n",
      "34    182\n",
      "19    181\n",
      "35    179\n",
      "36    177\n",
      "17    177\n",
      "24    176\n",
      "44    176\n",
      "23    175\n",
      "55    174\n",
      "43    173\n",
      "31    173\n",
      "54    173\n",
      "28    173\n",
      "39    173\n",
      "26    173\n",
      "16    172\n",
      "56    170\n",
      "38    170\n",
      "40    170\n",
      "45    168\n",
      "25    168\n",
      "29    151\n",
      "27    146\n",
      "Name: count, dtype: int64\n",
      "\n",
      "----------------------------------------\n",
      "\n",
      " Unqiue categories in country\n",
      "country\n",
      "AU    1034\n",
      "US    1032\n",
      "DE    1015\n",
      "IN    1011\n",
      "PK     999\n",
      "FR     989\n",
      "UK     966\n",
      "CA     954\n",
      "Name: count, dtype: int64\n",
      "\n",
      "----------------------------------------\n",
      "\n",
      " Unqiue categories in subscription_type\n",
      "subscription_type\n",
      "Premium    2115\n",
      "Free       2018\n",
      "Student    1959\n",
      "Family     1908\n",
      "Name: count, dtype: int64\n",
      "\n",
      "----------------------------------------\n",
      "\n",
      " Unqiue categories in listening_time\n",
      "listening_time\n",
      "99     43\n",
      "113    39\n",
      "180    39\n",
      "204    39\n",
      "199    38\n",
      "       ..\n",
      "258    17\n",
      "148    17\n",
      "69     17\n",
      "186    16\n",
      "121    14\n",
      "Name: count, Length: 290, dtype: int64\n",
      "\n",
      "----------------------------------------\n",
      "\n",
      " Unqiue categories in songs_played_per_day\n",
      "songs_played_per_day\n",
      "39    102\n",
      "85    100\n",
      "60    100\n",
      "71     96\n",
      "13     96\n",
      "     ... \n",
      "44     68\n",
      "2      68\n",
      "69     67\n",
      "94     64\n",
      "89     55\n",
      "Name: count, Length: 99, dtype: int64\n",
      "\n",
      "----------------------------------------\n",
      "\n",
      " Unqiue categories in skip_rate\n",
      "skip_rate\n",
      "0.34    155\n",
      "0.15    153\n",
      "0.56    151\n",
      "0.19    151\n",
      "0.10    150\n",
      "       ... \n",
      "0.02    115\n",
      "0.23    114\n",
      "0.18    113\n",
      "0.60     72\n",
      "0.00     67\n",
      "Name: count, Length: 61, dtype: int64\n",
      "\n",
      "----------------------------------------\n",
      "\n",
      " Unqiue categories in device_type\n",
      "device_type\n",
      "Desktop    2778\n",
      "Web        2623\n",
      "Mobile     2599\n",
      "Name: count, dtype: int64\n",
      "\n",
      "----------------------------------------\n",
      "\n",
      " Unqiue categories in ads_listened_per_week\n",
      "ads_listened_per_week\n",
      "0     5982\n",
      "47      58\n",
      "44      57\n",
      "16      55\n",
      "41      53\n",
      "39      53\n",
      "35      53\n",
      "46      51\n",
      "45      50\n",
      "26      49\n",
      "13      49\n",
      "18      49\n",
      "36      48\n",
      "32      47\n",
      "38      47\n",
      "20      47\n",
      "30      46\n",
      "12      46\n",
      "40      45\n",
      "31      45\n",
      "15      45\n",
      "43      45\n",
      "34      44\n",
      "37      44\n",
      "9       44\n",
      "25      44\n",
      "11      43\n",
      "8       43\n",
      "17      43\n",
      "27      43\n",
      "22      43\n",
      "28      43\n",
      "42      43\n",
      "5       42\n",
      "24      42\n",
      "10      42\n",
      "19      42\n",
      "14      42\n",
      "33      40\n",
      "29      38\n",
      "49      38\n",
      "6       38\n",
      "7       37\n",
      "48      36\n",
      "21      34\n",
      "23      32\n",
      "Name: count, dtype: int64\n",
      "\n",
      "----------------------------------------\n",
      "\n",
      " Unqiue categories in offline_listening\n",
      "offline_listening\n",
      "1    5982\n",
      "0    2018\n",
      "Name: count, dtype: int64\n",
      "\n",
      "----------------------------------------\n",
      "\n",
      " Unqiue categories in is_churned\n",
      "is_churned\n",
      "0    5929\n",
      "1    2071\n",
      "Name: count, dtype: int64\n",
      "\n",
      "----------------------------------------\n",
      "\n"
     ]
    }
   ],
   "source": [
    "for i in df.columns:\n",
    "  print(f\" Unqiue categories in {i}\")\n",
    "  print(df[i].value_counts())\n",
    "  print(\"\\n\" + \"--\"*20 + \"\\n\")"
   ]
  },
  {
   "cell_type": "code",
   "execution_count": 9,
   "id": "95ff7687",
   "metadata": {
    "execution": {
     "iopub.execute_input": "2025-10-06T18:15:59.549806Z",
     "iopub.status.busy": "2025-10-06T18:15:59.549485Z",
     "iopub.status.idle": "2025-10-06T18:16:00.217276Z",
     "shell.execute_reply": "2025-10-06T18:16:00.216274Z"
    },
    "executionInfo": {
     "elapsed": 922,
     "status": "ok",
     "timestamp": 1759771594648,
     "user": {
      "displayName": "Sheral Waskar",
      "userId": "04026476592042756494"
     },
     "user_tz": -330
    },
    "id": "vCaSiEI2NZol",
    "outputId": "900a90d3-a286-4190-ad96-9025689e66b1",
    "papermill": {
     "duration": 0.678888,
     "end_time": "2025-10-06T18:16:00.218702",
     "exception": false,
     "start_time": "2025-10-06T18:15:59.539814",
     "status": "completed"
    },
    "tags": []
   },
   "outputs": [
    {
     "data": {
      "image/png": "[encoded data removed]",
      "text/plain": [
       "<Figure size 1000x600 with 2 Axes>"
      ]
     },
     "metadata": {},
     "output_type": "display_data"
    },
    {
     "name": "stdout",
     "output_type": "stream",
     "text": [
      "skip_rate                0.016121\n",
      "offline_listening        0.012754\n",
      "songs_played_per_day     0.009314\n",
      "age                      0.003982\n",
      "ads_listened_per_week   -0.002279\n",
      "listening_time          -0.007624\n",
      "user_id                 -0.015994\n",
      "Name: is_churned, dtype: float64\n"
     ]
    },
    {
     "data": {
      "image/png": "[encoded data removed]",
      "text/plain": [
       "<Figure size 640x480 with 1 Axes>"
      ]
     },
     "metadata": {},
     "output_type": "display_data"
    }
   ],
   "source": [
    "# CORELATION MATRIX\n",
    "corr = df.select_dtypes(include = [np.number]).corr()\n",
    "\n",
    "\n",
    "plt.figure(figsize=(10,6))\n",
    "sns.heatmap(corr, annot=True, cmap=\"coolwarm\", fmt=\".2f\")\n",
    "plt.title(\"Correlation Matrix\")\n",
    "plt.show()\n",
    "\n",
    "imp_fea = corr[\"is_churned\"].sort_values(ascending = False)[1:]\n",
    "print(imp_fea)\n",
    "sns.barplot(x=imp_fea.values, y=imp_fea.index, palette=\"Set1\")\n",
    "plt.title(\"Feature Correlation with Target (is_churned)\")\n",
    "plt.xlabel(\"Correlation Value\")\n",
    "plt.ylabel(\"Features\")\n",
    "plt.show()"
   ]
  },
  {
   "cell_type": "code",
   "execution_count": 10,
   "id": "aee4c467",
   "metadata": {
    "execution": {
     "iopub.execute_input": "2025-10-06T18:16:00.245471Z",
     "iopub.status.busy": "2025-10-06T18:16:00.245167Z",
     "iopub.status.idle": "2025-10-06T18:16:00.454661Z",
     "shell.execute_reply": "2025-10-06T18:16:00.453930Z"
    },
    "executionInfo": {
     "elapsed": 215,
     "status": "ok",
     "timestamp": 1759771607250,
     "user": {
      "displayName": "Sheral Waskar",
      "userId": "04026476592042756494"
     },
     "user_tz": -330
    },
    "id": "1yn3ngQ3PZZT",
    "outputId": "6b204f58-9506-44dd-ac0c-7024eb74b761",
    "papermill": {
     "duration": 0.224465,
     "end_time": "2025-10-06T18:16:00.456225",
     "exception": false,
     "start_time": "2025-10-06T18:16:00.231760",
     "status": "completed"
    },
    "tags": []
   },
   "outputs": [
    {
     "data": {
      "image/png": "[encoded data removed]",
      "text/plain": [
       "<Figure size 800x500 with 1 Axes>"
      ]
     },
     "metadata": {},
     "output_type": "display_data"
    }
   ],
   "source": [
    "# Count of each device type\n",
    "device_counts = df['device_type'].value_counts()\n",
    "\n",
    "# Bar chart\n",
    "plt.figure(figsize=(8,5))\n",
    "device_counts.plot(kind='bar', color='lightblue', edgecolor='black')\n",
    "\n",
    "plt.title('Device Type Distribution')\n",
    "plt.xlabel('Device Type')\n",
    "plt.ylabel('Count')\n",
    "plt.xticks(rotation=45)\n",
    "plt.show()"
   ]
  },
  {
   "cell_type": "code",
   "execution_count": 11,
   "id": "6a2958ae",
   "metadata": {
    "execution": {
     "iopub.execute_input": "2025-10-06T18:16:00.482680Z",
     "iopub.status.busy": "2025-10-06T18:16:00.482348Z",
     "iopub.status.idle": "2025-10-06T18:16:00.658762Z",
     "shell.execute_reply": "2025-10-06T18:16:00.657821Z"
    },
    "executionInfo": {
     "elapsed": 150,
     "status": "ok",
     "timestamp": 1759771631428,
     "user": {
      "displayName": "Sheral Waskar",
      "userId": "04026476592042756494"
     },
     "user_tz": -330
    },
    "id": "iRQER-xDP-k5",
    "outputId": "182825a8-4f87-480e-df68-5caed49c725e",
    "papermill": {
     "duration": 0.191916,
     "end_time": "2025-10-06T18:16:00.660388",
     "exception": false,
     "start_time": "2025-10-06T18:16:00.468472",
     "status": "completed"
    },
    "tags": []
   },
   "outputs": [
    {
     "data": {
      "image/png": "[encoded data removed]",
      "text/plain": [
       "<Figure size 1000x500 with 1 Axes>"
      ]
     },
     "metadata": {},
     "output_type": "display_data"
    }
   ],
   "source": [
    "# Count of each country\n",
    "country_counts = df['country'].value_counts()\n",
    "\n",
    "# Bar chart\n",
    "plt.figure(figsize=(10,5))\n",
    "country_counts.plot(kind='bar', color='lightgreen', edgecolor='black')\n",
    "\n",
    "plt.title('Country Distribution')\n",
    "plt.xlabel('Country')\n",
    "plt.ylabel('Count')\n",
    "plt.xticks(rotation=45)\n",
    "plt.show()"
   ]
  },
  {
   "cell_type": "code",
   "execution_count": 12,
   "id": "6a9a7d7d",
   "metadata": {
    "execution": {
     "iopub.execute_input": "2025-10-06T18:16:00.690208Z",
     "iopub.status.busy": "2025-10-06T18:16:00.689869Z",
     "iopub.status.idle": "2025-10-06T18:16:00.976183Z",
     "shell.execute_reply": "2025-10-06T18:16:00.975232Z"
    },
    "executionInfo": {
     "elapsed": 1074,
     "status": "ok",
     "timestamp": 1759771639532,
     "user": {
      "displayName": "Sheral Waskar",
      "userId": "04026476592042756494"
     },
     "user_tz": -330
    },
    "id": "Scy_dIXSQFfl",
    "outputId": "80be96cf-444a-4af9-ed82-d4a4ac32283c",
    "papermill": {
     "duration": 0.302812,
     "end_time": "2025-10-06T18:16:00.977640",
     "exception": false,
     "start_time": "2025-10-06T18:16:00.674828",
     "status": "completed"
    },
    "tags": []
   },
   "outputs": [
    {
     "data": {
      "image/png": "[encoded data removed]",
      "text/plain": [
       "<Figure size 600x400 with 1 Axes>"
      ]
     },
     "metadata": {},
     "output_type": "display_data"
    },
    {
     "data": {
      "image/png": "[encoded data removed]",
      "text/plain": [
       "<Figure size 400x600 with 1 Axes>"
      ]
     },
     "metadata": {},
     "output_type": "display_data"
    }
   ],
   "source": [
    "# Histogram for Age distribution\n",
    "plt.figure(figsize=(6,4))\n",
    "plt.hist(df['age'].dropna(), bins=20, color='skyblue', edgecolor='black')\n",
    "plt.title('Age Distribution')\n",
    "plt.xlabel('Age')\n",
    "plt.ylabel('Frequency')\n",
    "plt.show()\n",
    "\n",
    "# Boxplot for Age\n",
    "plt.figure(figsize=(4,6))\n",
    "plt.boxplot(df['age'].dropna(), vert=True)\n",
    "plt.title('Age Boxplot')\n",
    "plt.ylabel('Age')\n",
    "plt.show()"
   ]
  },
  {
   "cell_type": "code",
   "execution_count": 13,
   "id": "a992b019",
   "metadata": {
    "execution": {
     "iopub.execute_input": "2025-10-06T18:16:01.007018Z",
     "iopub.status.busy": "2025-10-06T18:16:01.006636Z",
     "iopub.status.idle": "2025-10-06T18:16:01.184279Z",
     "shell.execute_reply": "2025-10-06T18:16:01.183419Z"
    },
    "executionInfo": {
     "elapsed": 59,
     "status": "ok",
     "timestamp": 1759771643083,
     "user": {
      "displayName": "Sheral Waskar",
      "userId": "04026476592042756494"
     },
     "user_tz": -330
    },
    "id": "Yr5bgP3UWFUh",
    "outputId": "3d78c9b2-b66d-4a45-cca5-1a5cf3260439",
    "papermill": {
     "duration": 0.194284,
     "end_time": "2025-10-06T18:16:01.185876",
     "exception": false,
     "start_time": "2025-10-06T18:16:00.991592",
     "status": "completed"
    },
    "tags": []
   },
   "outputs": [
    {
     "data": {
      "image/png": "[encoded data removed]",
      "text/plain": [
       "<Figure size 800x500 with 1 Axes>"
      ]
     },
     "metadata": {},
     "output_type": "display_data"
    }
   ],
   "source": [
    "# Count of each subscription type\n",
    "subscription_counts = df['subscription_type'].value_counts()\n",
    "\n",
    "# Bar chart\n",
    "plt.figure(figsize=(8,5))\n",
    "subscription_counts.plot(kind='bar', color='skyblue', edgecolor='black')\n",
    "\n",
    "plt.title('Subscription Type Distribution')\n",
    "plt.xlabel('Subscription Type')\n",
    "plt.ylabel('Count')\n",
    "plt.xticks(rotation=45)\n",
    "plt.show()"
   ]
  },
  {
   "cell_type": "markdown",
   "id": "ef0f67e4",
   "metadata": {
    "id": "8KhVMD41YTYu",
    "papermill": {
     "duration": 0.014359,
     "end_time": "2025-10-06T18:16:01.215204",
     "exception": false,
     "start_time": "2025-10-06T18:16:01.200845",
     "status": "completed"
    },
    "tags": []
   },
   "source": [
    "**Feature Engineering**"
   ]
  },
  {
   "cell_type": "code",
   "execution_count": 14,
   "id": "1a2b09ac",
   "metadata": {
    "execution": {
     "iopub.execute_input": "2025-10-06T18:16:01.246325Z",
     "iopub.status.busy": "2025-10-06T18:16:01.246011Z",
     "iopub.status.idle": "2025-10-06T18:16:01.260616Z",
     "shell.execute_reply": "2025-10-06T18:16:01.259718Z"
    },
    "executionInfo": {
     "elapsed": 27,
     "status": "ok",
     "timestamp": 1759771647564,
     "user": {
      "displayName": "Sheral Waskar",
      "userId": "04026476592042756494"
     },
     "user_tz": -330
    },
    "id": "RbcaQAViYWLt",
    "papermill": {
     "duration": 0.03196,
     "end_time": "2025-10-06T18:16:01.262294",
     "exception": false,
     "start_time": "2025-10-06T18:16:01.230334",
     "status": "completed"
    },
    "tags": []
   },
   "outputs": [],
   "source": [
    "# lets do onehot encoding for categorical values\n",
    "cat_col = [\"offline_listening\",\"device_type\",\"subscription_type\",\"country\",\"gender\"]\n",
    "df = pd.get_dummies(df,columns =cat_col,drop_first = True,dtype = int )"
   ]
  },
  {
   "cell_type": "markdown",
   "id": "75b6eac8",
   "metadata": {
    "id": "C_Pyw4tcYcKq",
    "papermill": {
     "duration": 0.015653,
     "end_time": "2025-10-06T18:16:01.293093",
     "exception": false,
     "start_time": "2025-10-06T18:16:01.277440",
     "status": "completed"
    },
    "tags": []
   },
   "source": [
    "**Modelling**"
   ]
  },
  {
   "cell_type": "code",
   "execution_count": 15,
   "id": "601a480d",
   "metadata": {
    "execution": {
     "iopub.execute_input": "2025-10-06T18:16:01.325941Z",
     "iopub.status.busy": "2025-10-06T18:16:01.325519Z",
     "iopub.status.idle": "2025-10-06T18:16:01.640779Z",
     "shell.execute_reply": "2025-10-06T18:16:01.639970Z"
    },
    "executionInfo": {
     "elapsed": 75,
     "status": "ok",
     "timestamp": 1759771649099,
     "user": {
      "displayName": "Sheral Waskar",
      "userId": "04026476592042756494"
     },
     "user_tz": -330
    },
    "id": "tmxttdHgWptC",
    "papermill": {
     "duration": 0.333312,
     "end_time": "2025-10-06T18:16:01.642364",
     "exception": false,
     "start_time": "2025-10-06T18:16:01.309052",
     "status": "completed"
    },
    "tags": []
   },
   "outputs": [],
   "source": [
    "from sklearn.model_selection import train_test_split\n",
    "xtrain,xtest,ytrain,ytest = train_test_split(df.drop(columns =  [\"is_churned\",\"user_id\"]),df[\"is_churned\"],test_size = 0.2,random_state = 1)"
   ]
  },
  {
   "cell_type": "code",
   "execution_count": 16,
   "id": "fdbe1dfa",
   "metadata": {
    "execution": {
     "iopub.execute_input": "2025-10-06T18:16:01.674059Z",
     "iopub.status.busy": "2025-10-06T18:16:01.673027Z",
     "iopub.status.idle": "2025-10-06T18:16:01.679106Z",
     "shell.execute_reply": "2025-10-06T18:16:01.678255Z"
    },
    "executionInfo": {
     "elapsed": 20,
     "status": "ok",
     "timestamp": 1759771651234,
     "user": {
      "displayName": "Sheral Waskar",
      "userId": "04026476592042756494"
     },
     "user_tz": -330
    },
    "id": "gPQlWpD1XHkI",
    "papermill": {
     "duration": 0.023223,
     "end_time": "2025-10-06T18:16:01.680519",
     "exception": false,
     "start_time": "2025-10-06T18:16:01.657296",
     "status": "completed"
    },
    "tags": []
   },
   "outputs": [],
   "source": [
    "X=df.drop(columns =  [\"is_churned\",\"user_id\"])"
   ]
  },
  {
   "cell_type": "code",
   "execution_count": 17,
   "id": "6838097b",
   "metadata": {
    "execution": {
     "iopub.execute_input": "2025-10-06T18:16:01.712550Z",
     "iopub.status.busy": "2025-10-06T18:16:01.711679Z",
     "iopub.status.idle": "2025-10-06T18:16:01.739197Z",
     "shell.execute_reply": "2025-10-06T18:16:01.738132Z"
    },
    "executionInfo": {
     "elapsed": 19,
     "status": "ok",
     "timestamp": 1759771652717,
     "user": {
      "displayName": "Sheral Waskar",
      "userId": "04026476592042756494"
     },
     "user_tz": -330
    },
    "id": "YhhoJgfFXxru",
    "papermill": {
     "duration": 0.045156,
     "end_time": "2025-10-06T18:16:01.740809",
     "exception": false,
     "start_time": "2025-10-06T18:16:01.695653",
     "status": "completed"
    },
    "tags": []
   },
   "outputs": [],
   "source": [
    "# lets scale inputts\n",
    "from sklearn.preprocessing import StandardScaler\n",
    "ss = StandardScaler()\n",
    "xtrainscale = ss.fit_transform(xtrain)\n",
    "xtestscale = ss.transform(xtest)"
   ]
  },
  {
   "cell_type": "code",
   "execution_count": 18,
   "id": "70060533",
   "metadata": {
    "execution": {
     "iopub.execute_input": "2025-10-06T18:16:01.774589Z",
     "iopub.status.busy": "2025-10-06T18:16:01.774306Z",
     "iopub.status.idle": "2025-10-06T18:16:02.169871Z",
     "shell.execute_reply": "2025-10-06T18:16:02.168781Z"
    },
    "executionInfo": {
     "elapsed": 680,
     "status": "ok",
     "timestamp": 1759771654865,
     "user": {
      "displayName": "Sheral Waskar",
      "userId": "04026476592042756494"
     },
     "user_tz": -330
    },
    "id": "5zCjTS3XZoqm",
    "papermill": {
     "duration": 0.412894,
     "end_time": "2025-10-06T18:16:02.171627",
     "exception": false,
     "start_time": "2025-10-06T18:16:01.758733",
     "status": "completed"
    },
    "tags": []
   },
   "outputs": [],
   "source": [
    "from sklearn.linear_model import LogisticRegression\n",
    "from sklearn.neighbors import KNeighborsClassifier\n",
    "from sklearn.svm import SVC\n",
    "from sklearn.tree import DecisionTreeClassifier\n",
    "from sklearn.ensemble import RandomForestClassifier,GradientBoostingClassifier,AdaBoostClassifier,BaggingClassifier\n",
    "logr = LogisticRegression()\n",
    "knn = KNeighborsClassifier()\n",
    "svc = SVC()\n",
    "tree = DecisionTreeClassifier()\n",
    "forest = RandomForestClassifier()\n",
    "boost =GradientBoostingClassifier()\n",
    "adboost = AdaBoostClassifier()\n",
    "bag = BaggingClassifier()\n",
    "models = [logr,knn,tree,svc,forest,boost,adboost,bag]"
   ]
  },
  {
   "cell_type": "markdown",
   "id": "a14d6b53",
   "metadata": {
    "id": "88WbZjz9aXkL",
    "papermill": {
     "duration": 0.014725,
     "end_time": "2025-10-06T18:16:02.201380",
     "exception": false,
     "start_time": "2025-10-06T18:16:02.186655",
     "status": "completed"
    },
    "tags": []
   },
   "source": [
    "**Models without Tuning**"
   ]
  },
  {
   "cell_type": "code",
   "execution_count": 19,
   "id": "0da3d669",
   "metadata": {
    "execution": {
     "iopub.execute_input": "2025-10-06T18:16:02.231779Z",
     "iopub.status.busy": "2025-10-06T18:16:02.231447Z",
     "iopub.status.idle": "2025-10-06T18:16:07.557117Z",
     "shell.execute_reply": "2025-10-06T18:16:07.556059Z"
    },
    "executionInfo": {
     "elapsed": 14346,
     "status": "ok",
     "timestamp": 1759771676769,
     "user": {
      "displayName": "Sheral Waskar",
      "userId": "04026476592042756494"
     },
     "user_tz": -330
    },
    "id": "EgXSQ0LqaXAr",
    "outputId": "af3a00ff-b97b-4d4e-b844-c065cd286324",
    "papermill": {
     "duration": 5.342673,
     "end_time": "2025-10-06T18:16:07.558602",
     "exception": false,
     "start_time": "2025-10-06T18:16:02.215929",
     "status": "completed"
    },
    "tags": []
   },
   "outputs": [
    {
     "name": "stdout",
     "output_type": "stream",
     "text": [
      "LogisticRegression() : 0.74875\n",
      "KNeighborsClassifier() : 0.6825\n",
      "DecisionTreeClassifier() : 0.596875\n",
      "SVC() : 0.74875\n",
      "RandomForestClassifier() : 0.74375\n",
      "GradientBoostingClassifier() : 0.7475\n",
      "AdaBoostClassifier() : 0.74875\n",
      "BaggingClassifier() : 0.714375\n"
     ]
    }
   ],
   "source": [
    "from sklearn.metrics import accuracy_score\n",
    "for model in models :\n",
    "  model.fit(xtrainscale,ytrain)\n",
    "  ypred = model.predict(xtestscale)\n",
    "  print(f\"{model} : {accuracy_score(ytest,ypred)}\")"
   ]
  },
  {
   "cell_type": "code",
   "execution_count": 20,
   "id": "7cf9d003",
   "metadata": {
    "execution": {
     "iopub.execute_input": "2025-10-06T18:16:07.590506Z",
     "iopub.status.busy": "2025-10-06T18:16:07.589725Z",
     "iopub.status.idle": "2025-10-06T18:16:07.594606Z",
     "shell.execute_reply": "2025-10-06T18:16:07.593852Z"
    },
    "executionInfo": {
     "elapsed": 24,
     "status": "ok",
     "timestamp": 1759771676797,
     "user": {
      "displayName": "Sheral Waskar",
      "userId": "04026476592042756494"
     },
     "user_tz": -330
    },
    "id": "ez0pnJEZXWMa",
    "papermill": {
     "duration": 0.02248,
     "end_time": "2025-10-06T18:16:07.596131",
     "exception": false,
     "start_time": "2025-10-06T18:16:07.573651",
     "status": "completed"
    },
    "tags": []
   },
   "outputs": [],
   "source": [
    "from sklearn.ensemble import RandomForestClassifier\n",
    "rf_model = RandomForestClassifier(\n",
    "    n_estimators=200,        # number of trees\n",
    "    max_depth=10,            # maximum depth of each tree\n",
    "    min_samples_split=5,     # min samples required to split a node\n",
    "    min_samples_leaf=2,      # min samples required at a leaf node\n",
    "    max_features='sqrt',     # number of features to consider at each split ('sqrt', 'log2', or int)\n",
    "    random_state=42\n",
    ")"
   ]
  },
  {
   "cell_type": "code",
   "execution_count": 21,
   "id": "b4dd7c23",
   "metadata": {
    "execution": {
     "iopub.execute_input": "2025-10-06T18:16:07.628416Z",
     "iopub.status.busy": "2025-10-06T18:16:07.627565Z",
     "iopub.status.idle": "2025-10-06T18:16:08.781840Z",
     "shell.execute_reply": "2025-10-06T18:16:08.780706Z"
    },
    "executionInfo": {
     "elapsed": 1523,
     "status": "ok",
     "timestamp": 1759771726257,
     "user": {
      "displayName": "Sheral Waskar",
      "userId": "04026476592042756494"
     },
     "user_tz": -330
    },
    "id": "5LLC41RSWPWJ",
    "outputId": "939e2dd1-f723-4dee-fad8-419626961ab6",
    "papermill": {
     "duration": 1.171785,
     "end_time": "2025-10-06T18:16:08.783359",
     "exception": false,
     "start_time": "2025-10-06T18:16:07.611574",
     "status": "completed"
    },
    "tags": []
   },
   "outputs": [
    {
     "name": "stdout",
     "output_type": "stream",
     "text": [
      "\n",
      "Feature Importances:\n",
      "                       feature  importance\n",
      "1              listening_time    0.192479\n",
      "2        songs_played_per_day    0.180002\n",
      "3                   skip_rate    0.166727\n",
      "0                         age    0.154053\n",
      "4       ads_listened_per_week    0.065410\n",
      "19               gender_Other    0.024967\n",
      "18                gender_Male    0.023942\n",
      "6          device_type_Mobile    0.022979\n",
      "7             device_type_Web    0.022316\n",
      "9   subscription_type_Premium    0.018445\n",
      "10  subscription_type_Student    0.018320\n",
      "17                 country_US    0.014448\n",
      "12                 country_DE    0.013708\n",
      "13                 country_FR    0.013318\n",
      "14                 country_IN    0.013273\n",
      "15                 country_PK    0.013124\n",
      "11                 country_CA    0.013059\n",
      "16                 country_UK    0.012681\n",
      "5         offline_listening_1    0.008412\n",
      "8      subscription_type_Free    0.008335\n"
     ]
    }
   ],
   "source": [
    "# Optional: feature importance\n",
    "\n",
    "# Fit the rf_model\n",
    "rf_model.fit(xtrainscale, ytrain)\n",
    "\n",
    "feature_importances = pd.DataFrame({\n",
    "    'feature': X.columns,\n",
    "    'importance': rf_model.feature_importances_\n",
    "}).sort_values(by='importance', ascending=False)\n",
    "\n",
    "print(\"\\nFeature Importances:\\n\", feature_importances)"
   ]
  },
  {
   "cell_type": "code",
   "execution_count": 22,
   "id": "a2024837",
   "metadata": {
    "execution": {
     "iopub.execute_input": "2025-10-06T18:16:08.815977Z",
     "iopub.status.busy": "2025-10-06T18:16:08.815593Z",
     "iopub.status.idle": "2025-10-06T18:16:08.820456Z",
     "shell.execute_reply": "2025-10-06T18:16:08.819376Z"
    },
    "executionInfo": {
     "elapsed": 18,
     "status": "ok",
     "timestamp": 1759771732129,
     "user": {
      "displayName": "Sheral Waskar",
      "userId": "04026476592042756494"
     },
     "user_tz": -330
    },
    "id": "i9_LlsjtefXK",
    "papermill": {
     "duration": 0.022901,
     "end_time": "2025-10-06T18:16:08.822017",
     "exception": false,
     "start_time": "2025-10-06T18:16:08.799116",
     "status": "completed"
    },
    "tags": []
   },
   "outputs": [],
   "source": [
    "from sklearn.model_selection import GridSearchCV"
   ]
  },
  {
   "cell_type": "code",
   "execution_count": null,
   "id": "bd47714b",
   "metadata": {
    "id": "k59VA-phen7A",
    "papermill": {
     "duration": 0.016177,
     "end_time": "2025-10-06T18:16:08.856974",
     "exception": false,
     "start_time": "2025-10-06T18:16:08.840797",
     "status": "completed"
    },
    "tags": []
   },
   "outputs": [],
   "source": []
  },
  {
   "cell_type": "code",
   "execution_count": 23,
   "id": "17be37dc",
   "metadata": {
    "execution": {
     "iopub.execute_input": "2025-10-06T18:16:08.889832Z",
     "iopub.status.busy": "2025-10-06T18:16:08.889536Z",
     "iopub.status.idle": "2025-10-06T18:16:08.898230Z",
     "shell.execute_reply": "2025-10-06T18:16:08.897269Z"
    },
    "executionInfo": {
     "elapsed": 34,
     "status": "ok",
     "timestamp": 1759771777428,
     "user": {
      "displayName": "Sheral Waskar",
      "userId": "04026476592042756494"
     },
     "user_tz": -330
    },
    "id": "b015c0f3",
    "papermill": {
     "duration": 0.026926,
     "end_time": "2025-10-06T18:16:08.899701",
     "exception": false,
     "start_time": "2025-10-06T18:16:08.872775",
     "status": "completed"
    },
    "tags": []
   },
   "outputs": [],
   "source": [
    "from sklearn.model_selection import GridSearchCV\n",
    "from sklearn.linear_model import LogisticRegression\n",
    "from sklearn.neighbors import KNeighborsClassifier\n",
    "from sklearn.svm import SVC\n",
    "from sklearn.tree import DecisionTreeClassifier\n",
    "from sklearn.ensemble import RandomForestClassifier, GradientBoostingClassifier, AdaBoostClassifier, BaggingClassifier\n",
    "\n",
    "# Define models and their parameter grids\n",
    "models = {\n",
    "    'LogisticRegression': {\n",
    "        'model': LogisticRegression(),\n",
    "        'params': {\n",
    "            'C': [0.1, 1, 10],\n",
    "            'penalty': ['l2']\n",
    "        }\n",
    "    },\n",
    "    'KNeighborsClassifier': {\n",
    "        'model': KNeighborsClassifier(),\n",
    "        'params': {\n",
    "            'n_neighbors': [3, 5, 7],\n",
    "            'weights': ['uniform', 'distance']\n",
    "        }\n",
    "    },\n",
    "    'DecisionTreeClassifier': {\n",
    "        'model': DecisionTreeClassifier(),\n",
    "        'params': {\n",
    "            'max_depth': [None, 5, 10],\n",
    "            'min_samples_split': [2, 5, 10]\n",
    "        }\n",
    "    },\n",
    "    'RandomForestClassifier': {\n",
    "        'model': RandomForestClassifier(),\n",
    "        'params': {\n",
    "            'n_estimators': [100, 200],\n",
    "            'max_depth': [5, 10],\n",
    "            'min_samples_split': [2, 5]\n",
    "        }\n",
    "    },\n",
    "    'GradientBoostingClassifier': {\n",
    "        'model': GradientBoostingClassifier(),\n",
    "        'params': {\n",
    "            'n_estimators': [100, 200],\n",
    "            'learning_rate': [0.01, 0.1],\n",
    "            'max_depth': [3, 5]\n",
    "        }\n",
    "    },\n",
    "    'AdaBoostClassifier': {\n",
    "        'model': AdaBoostClassifier(),\n",
    "        'params': {\n",
    "            'n_estimators': [50, 100],\n",
    "            'learning_rate': [0.01, 0.1, 1]\n",
    "        }\n",
    "    },\n",
    "    'BaggingClassifier': {\n",
    "        'model': BaggingClassifier(),\n",
    "        'params': {\n",
    "            'n_estimators': [10, 50],\n",
    "            'max_samples': [0.5, 1.0]\n",
    "        }\n",
    "    }\n",
    "}"
   ]
  },
  {
   "cell_type": "code",
   "execution_count": 24,
   "id": "24e22725",
   "metadata": {
    "execution": {
     "iopub.execute_input": "2025-10-06T18:16:08.932299Z",
     "iopub.status.busy": "2025-10-06T18:16:08.931978Z",
     "iopub.status.idle": "2025-10-06T18:16:57.333671Z",
     "shell.execute_reply": "2025-10-06T18:16:57.332679Z"
    },
    "executionInfo": {
     "elapsed": 126873,
     "status": "ok",
     "timestamp": 1759772193752,
     "user": {
      "displayName": "Sheral Waskar",
      "userId": "04026476592042756494"
     },
     "user_tz": -330
    },
    "id": "AHiqTebvfCI3",
    "outputId": "743608db-310a-40ca-f88b-dea03bdb4e11",
    "papermill": {
     "duration": 48.419677,
     "end_time": "2025-10-06T18:16:57.335087",
     "exception": false,
     "start_time": "2025-10-06T18:16:08.915410",
     "status": "completed"
    },
    "tags": []
   },
   "outputs": [
    {
     "name": "stdout",
     "output_type": "stream",
     "text": [
      "🔍 Tuning LogisticRegression ...\n",
      "LogisticRegression: Best Params = {'C': 0.1, 'penalty': 'l2'}\n",
      "CV Score (F1) = 0.0000, Test Score (Accuracy) = 0.7488\n",
      "======================================================================\n",
      "🔍 Tuning KNeighborsClassifier ...\n",
      "KNeighborsClassifier: Best Params = {'n_neighbors': 3, 'weights': 'distance'}\n",
      "CV Score (F1) = 0.2197, Test Score (Accuracy) = 0.6544\n",
      "======================================================================\n",
      "🔍 Tuning DecisionTreeClassifier ...\n",
      "DecisionTreeClassifier: Best Params = {'max_depth': None, 'min_samples_split': 2}\n",
      "CV Score (F1) = 0.2829, Test Score (Accuracy) = 0.6025\n",
      "======================================================================\n",
      "🔍 Tuning RandomForestClassifier ...\n",
      "RandomForestClassifier: Best Params = {'max_depth': 5, 'min_samples_split': 2, 'n_estimators': 100}\n",
      "CV Score (F1) = 0.0000, Test Score (Accuracy) = 0.7488\n",
      "======================================================================\n",
      "🔍 Tuning GradientBoostingClassifier ...\n",
      "GradientBoostingClassifier: Best Params = {'learning_rate': 0.1, 'max_depth': 5, 'n_estimators': 200}\n",
      "CV Score (F1) = 0.0901, Test Score (Accuracy) = 0.7300\n",
      "======================================================================\n",
      "🔍 Tuning AdaBoostClassifier ...\n",
      "AdaBoostClassifier: Best Params = {'learning_rate': 1, 'n_estimators': 50}\n",
      "CV Score (F1) = 0.0012, Test Score (Accuracy) = 0.7488\n",
      "======================================================================\n",
      "🔍 Tuning BaggingClassifier ...\n",
      "BaggingClassifier: Best Params = {'max_samples': 1.0, 'n_estimators': 10}\n",
      "CV Score (F1) = 0.1114, Test Score (Accuracy) = 0.7125\n",
      "======================================================================\n"
     ]
    }
   ],
   "source": [
    "results = [] # Initialize an empty list to store results\n",
    "\n",
    "for name, model_info in models.items():\n",
    "    print(f\"🔍 Tuning {name} ...\")\n",
    "    model = model_info['model']\n",
    "    params = model_info['params']\n",
    "\n",
    "    # Changed scoring to 'f1' to handle class imbalance\n",
    "    grid = GridSearchCV(model, params, cv=5, scoring=\"f1\", n_jobs=-1)\n",
    "    grid.fit(xtrainscale, ytrain)\n",
    "\n",
    "    best_model = grid.best_estimator_\n",
    "    best_score = grid.best_score_\n",
    "    test_score = best_model.score(xtestscale, ytest)\n",
    "\n",
    "    print(f\"{name}: Best Params = {grid.best_params_}\")\n",
    "    print(f\"CV Score (F1) = {best_score:.4f}, Test Score (Accuracy) = {test_score:.4f}\")\n",
    "    print(\"=\"*70)\n",
    "\n",
    "    results.append((name, grid.best_params_, best_score, test_score))"
   ]
  },
  {
   "cell_type": "markdown",
   "id": "12edd7ff",
   "metadata": {
    "id": "794098f7",
    "papermill": {
     "duration": 0.017657,
     "end_time": "2025-10-06T18:16:57.369562",
     "exception": false,
     "start_time": "2025-10-06T18:16:57.351905",
     "status": "completed"
    },
    "tags": []
   },
   "source": [
    "**Observations from Grid Search:**\n",
    "\n",
    "After performing a Grid Search with cross-validation to tune the hyperparameters of various models, here are the key observations:\n",
    "\n",
    "* **Top Performing Models:** Logistic Regression, SVC, RandomForestClassifier, GradientBoostingClassifier, and AdaBoostClassifier achieved the highest and equal test accuracy of 0.7488.\n",
    "* **Consistent Performance:** Several models maintained a similar performance between the cross-validation score and the test score, indicating good generalization to unseen data.\n",
    "* **KNeighborsClassifier Performance:** The KNeighborsClassifier had the lowest performance among all the tuned models.\n",
    "* **Decision Tree Performance:** The Decision Tree Classifier showed an improvement in test accuracy after tuning compared to its default parameters, although it still lagged behind the top performers.\n",
    "* **Ensemble Methods:** Ensemble methods like RandomForest, Gradient Boosting, and AdaBoost performed well, achieving the highest accuracy, which is expected as they combine multiple models to improve performance.\n",
    "\n",
    "Based on these observations, any of the top-performing models (Logistic Regression, SVC, RandomForestClassifier, GradientBoostingClassifier, or AdaBoostClassifier) could be considered for the final prediction model. Further analysis could involve exploring other metrics (like precision, recall, and F1-score), especially if there is an imbalance in the churned vs. non-churned classes."
   ]
  },
  {
   "cell_type": "markdown",
   "id": "85e554d1",
   "metadata": {
    "id": "ivZmXsNomnYr",
    "papermill": {
     "duration": 0.015769,
     "end_time": "2025-10-06T18:16:57.401822",
     "exception": false,
     "start_time": "2025-10-06T18:16:57.386053",
     "status": "completed"
    },
    "tags": []
   },
   "source": [
    "**Deep Learning**"
   ]
  },
  {
   "cell_type": "code",
   "execution_count": 25,
   "id": "7197458f",
   "metadata": {
    "execution": {
     "iopub.execute_input": "2025-10-06T18:16:57.435003Z",
     "iopub.status.busy": "2025-10-06T18:16:57.434665Z",
     "iopub.status.idle": "2025-10-06T18:17:14.649859Z",
     "shell.execute_reply": "2025-10-06T18:17:14.649001Z"
    },
    "executionInfo": {
     "elapsed": 5240,
     "status": "ok",
     "timestamp": 1759772371037,
     "user": {
      "displayName": "Sheral Waskar",
      "userId": "04026476592042756494"
     },
     "user_tz": -330
    },
    "id": "14O4xutWmqFL",
    "papermill": {
     "duration": 17.233848,
     "end_time": "2025-10-06T18:17:14.651482",
     "exception": false,
     "start_time": "2025-10-06T18:16:57.417634",
     "status": "completed"
    },
    "tags": []
   },
   "outputs": [
    {
     "name": "stderr",
     "output_type": "stream",
     "text": [
      "2025-10-06 18:16:59.619366: E external/local_xla/xla/stream_executor/cuda/cuda_fft.cc:477] Unable to register cuFFT factory: Attempting to register factory for plugin cuFFT when one has already been registered\n",
      "WARNING: All log messages before absl::InitializeLog() is called are written to STDERR\n",
      "E0000 00:00:1759774619.919004      13 cuda_dnn.cc:8310] Unable to register cuDNN factory: Attempting to register factory for plugin cuDNN when one has already been registered\n",
      "E0000 00:00:1759774619.999931      13 cuda_blas.cc:1418] Unable to register cuBLAS factory: Attempting to register factory for plugin cuBLAS when one has already been registered\n"
     ]
    }
   ],
   "source": [
    "from tensorflow.keras.models import Sequential\n",
    "from tensorflow.keras.layers import Dense"
   ]
  },
  {
   "cell_type": "code",
   "execution_count": 26,
   "id": "907a4dd1",
   "metadata": {
    "execution": {
     "iopub.execute_input": "2025-10-06T18:17:14.686235Z",
     "iopub.status.busy": "2025-10-06T18:17:14.685627Z",
     "iopub.status.idle": "2025-10-06T18:17:14.793144Z",
     "shell.execute_reply": "2025-10-06T18:17:14.792141Z"
    },
    "executionInfo": {
     "elapsed": 266,
     "status": "ok",
     "timestamp": 1759772571934,
     "user": {
      "displayName": "Sheral Waskar",
      "userId": "04026476592042756494"
     },
     "user_tz": -330
    },
    "id": "st7d5C8um15n",
    "outputId": "9d627d52-6f7f-4579-9a17-e0abf76ebfc4",
    "papermill": {
     "duration": 0.126604,
     "end_time": "2025-10-06T18:17:14.794620",
     "exception": false,
     "start_time": "2025-10-06T18:17:14.668016",
     "status": "completed"
    },
    "tags": []
   },
   "outputs": [
    {
     "name": "stderr",
     "output_type": "stream",
     "text": [
      "/usr/local/lib/python3.11/dist-packages/keras/src/layers/core/dense.py:87: UserWarning: Do not pass an `input_shape`/`input_dim` argument to a layer. When using Sequential models, prefer using an `Input(shape)` object as the first layer in the model instead.\n",
      "  super().__init__(activity_regularizer=activity_regularizer, **kwargs)\n",
      "2025-10-06 18:17:14.698455: E external/local_xla/xla/stream_executor/cuda/cuda_driver.cc:152] failed call to cuInit: INTERNAL: CUDA error: Failed call to cuInit: UNKNOWN ERROR (303)\n"
     ]
    },
    {
     "data": {
      "text/html": [
       "<pre style=\"white-space:pre;overflow-x:auto;line-height:normal;font-family:Menlo,'DejaVu Sans Mono',consolas,'Courier New',monospace\"><span style=\"font-weight: bold\">Model: \"sequential\"</span>\n",
       "</pre>\n"
      ],
      "text/plain": [
       "\u001b[1mModel: \"sequential\"\u001b[0m\n"
      ]
     },
     "metadata": {},
     "output_type": "display_data"
    },
    {
     "data": {
      "text/html": [
       "<pre style=\"white-space:pre;overflow-x:auto;line-height:normal;font-family:Menlo,'DejaVu Sans Mono',consolas,'Courier New',monospace\">┏━━━━━━━━━━━━━━━━━━━━━━━━━━━━━━━━━┳━━━━━━━━━━━━━━━━━━━━━━━━┳━━━━━━━━━━━━━━━┓\n",
       "┃<span style=\"font-weight: bold\"> Layer (type)                    </span>┃<span style=\"font-weight: bold\"> Output Shape           </span>┃<span style=\"font-weight: bold\">       Param # </span>┃\n",
       "┡━━━━━━━━━━━━━━━━━━━━━━━━━━━━━━━━━╇━━━━━━━━━━━━━━━━━━━━━━━━╇━━━━━━━━━━━━━━━┩\n",
       "│ dense (<span style=\"color: #0087ff; text-decoration-color: #0087ff\">Dense</span>)                   │ (<span style=\"color: #00d7ff; text-decoration-color: #00d7ff\">None</span>, <span style=\"color: #00af00; text-decoration-color: #00af00\">128</span>)            │         <span style=\"color: #00af00; text-decoration-color: #00af00\">2,688</span> │\n",
       "├─────────────────────────────────┼────────────────────────┼───────────────┤\n",
       "│ dense_1 (<span style=\"color: #0087ff; text-decoration-color: #0087ff\">Dense</span>)                 │ (<span style=\"color: #00d7ff; text-decoration-color: #00d7ff\">None</span>, <span style=\"color: #00af00; text-decoration-color: #00af00\">128</span>)            │        <span style=\"color: #00af00; text-decoration-color: #00af00\">16,512</span> │\n",
       "├─────────────────────────────────┼────────────────────────┼───────────────┤\n",
       "│ dense_2 (<span style=\"color: #0087ff; text-decoration-color: #0087ff\">Dense</span>)                 │ (<span style=\"color: #00d7ff; text-decoration-color: #00d7ff\">None</span>, <span style=\"color: #00af00; text-decoration-color: #00af00\">1</span>)              │           <span style=\"color: #00af00; text-decoration-color: #00af00\">129</span> │\n",
       "└─────────────────────────────────┴────────────────────────┴───────────────┘\n",
       "</pre>\n"
      ],
      "text/plain": [
       "┏━━━━━━━━━━━━━━━━━━━━━━━━━━━━━━━━━┳━━━━━━━━━━━━━━━━━━━━━━━━┳━━━━━━━━━━━━━━━┓\n",
       "┃\u001b[1m \u001b[0m\u001b[1mLayer (type)                   \u001b[0m\u001b[1m \u001b[0m┃\u001b[1m \u001b[0m\u001b[1mOutput Shape          \u001b[0m\u001b[1m \u001b[0m┃\u001b[1m \u001b[0m\u001b[1m      Param #\u001b[0m\u001b[1m \u001b[0m┃\n",
       "┡━━━━━━━━━━━━━━━━━━━━━━━━━━━━━━━━━╇━━━━━━━━━━━━━━━━━━━━━━━━╇━━━━━━━━━━━━━━━┩\n",
       "│ dense (\u001b[38;5;33mDense\u001b[0m)                   │ (\u001b[38;5;45mNone\u001b[0m, \u001b[38;5;34m128\u001b[0m)            │         \u001b[38;5;34m2,688\u001b[0m │\n",
       "├─────────────────────────────────┼────────────────────────┼───────────────┤\n",
       "│ dense_1 (\u001b[38;5;33mDense\u001b[0m)                 │ (\u001b[38;5;45mNone\u001b[0m, \u001b[38;5;34m128\u001b[0m)            │        \u001b[38;5;34m16,512\u001b[0m │\n",
       "├─────────────────────────────────┼────────────────────────┼───────────────┤\n",
       "│ dense_2 (\u001b[38;5;33mDense\u001b[0m)                 │ (\u001b[38;5;45mNone\u001b[0m, \u001b[38;5;34m1\u001b[0m)              │           \u001b[38;5;34m129\u001b[0m │\n",
       "└─────────────────────────────────┴────────────────────────┴───────────────┘\n"
      ]
     },
     "metadata": {},
     "output_type": "display_data"
    },
    {
     "data": {
      "text/html": [
       "<pre style=\"white-space:pre;overflow-x:auto;line-height:normal;font-family:Menlo,'DejaVu Sans Mono',consolas,'Courier New',monospace\"><span style=\"font-weight: bold\"> Total params: </span><span style=\"color: #00af00; text-decoration-color: #00af00\">19,329</span> (75.50 KB)\n",
       "</pre>\n"
      ],
      "text/plain": [
       "\u001b[1m Total params: \u001b[0m\u001b[38;5;34m19,329\u001b[0m (75.50 KB)\n"
      ]
     },
     "metadata": {},
     "output_type": "display_data"
    },
    {
     "data": {
      "text/html": [
       "<pre style=\"white-space:pre;overflow-x:auto;line-height:normal;font-family:Menlo,'DejaVu Sans Mono',consolas,'Courier New',monospace\"><span style=\"font-weight: bold\"> Trainable params: </span><span style=\"color: #00af00; text-decoration-color: #00af00\">19,329</span> (75.50 KB)\n",
       "</pre>\n"
      ],
      "text/plain": [
       "\u001b[1m Trainable params: \u001b[0m\u001b[38;5;34m19,329\u001b[0m (75.50 KB)\n"
      ]
     },
     "metadata": {},
     "output_type": "display_data"
    },
    {
     "data": {
      "text/html": [
       "<pre style=\"white-space:pre;overflow-x:auto;line-height:normal;font-family:Menlo,'DejaVu Sans Mono',consolas,'Courier New',monospace\"><span style=\"font-weight: bold\"> Non-trainable params: </span><span style=\"color: #00af00; text-decoration-color: #00af00\">0</span> (0.00 B)\n",
       "</pre>\n"
      ],
      "text/plain": [
       "\u001b[1m Non-trainable params: \u001b[0m\u001b[38;5;34m0\u001b[0m (0.00 B)\n"
      ]
     },
     "metadata": {},
     "output_type": "display_data"
    }
   ],
   "source": [
    "dim = xtrain.shape[1]\n",
    "model1 = Sequential()\n",
    "\n",
    "model1.add(Dense(128,input_dim=dim, activation=\"relu\"))\n",
    "model1.add(Dense(128, activation=\"relu\"))\n",
    "model1.add(Dense(1,activation='sigmoid'))\n",
    "model1.summary()"
   ]
  },
  {
   "cell_type": "code",
   "execution_count": 27,
   "id": "09dc9d49",
   "metadata": {
    "execution": {
     "iopub.execute_input": "2025-10-06T18:17:14.829984Z",
     "iopub.status.busy": "2025-10-06T18:17:14.829608Z",
     "iopub.status.idle": "2025-10-06T18:19:58.515018Z",
     "shell.execute_reply": "2025-10-06T18:19:58.513986Z"
    },
    "executionInfo": {
     "elapsed": 259640,
     "status": "ok",
     "timestamp": 1759772939340,
     "user": {
      "displayName": "Sheral Waskar",
      "userId": "04026476592042756494"
     },
     "user_tz": -330
    },
    "id": "T9NUsiq7nxOm",
    "outputId": "efc7f960-ee61-403e-88a0-34b490b91fce",
    "papermill": {
     "duration": 163.705451,
     "end_time": "2025-10-06T18:19:58.517358",
     "exception": false,
     "start_time": "2025-10-06T18:17:14.811907",
     "status": "completed"
    },
    "tags": []
   },
   "outputs": [
    {
     "name": "stdout",
     "output_type": "stream",
     "text": [
      "Epoch 1/15\n",
      "\u001b[1m5120/5120\u001b[0m \u001b[32m━━━━━━━━━━━━━━━━━━━━\u001b[0m\u001b[37m\u001b[0m \u001b[1m12s\u001b[0m 2ms/step - accuracy: 0.7221 - loss: 0.6334 - val_accuracy: 0.7453 - val_loss: 0.5965\n",
      "Epoch 2/15\n",
      "\u001b[1m5120/5120\u001b[0m \u001b[32m━━━━━━━━━━━━━━━━━━━━\u001b[0m\u001b[37m\u001b[0m \u001b[1m11s\u001b[0m 2ms/step - accuracy: 0.7272 - loss: 0.6255 - val_accuracy: 0.7531 - val_loss: 0.7315\n",
      "Epoch 3/15\n",
      "\u001b[1m5120/5120\u001b[0m \u001b[32m━━━━━━━━━━━━━━━━━━━━\u001b[0m\u001b[37m\u001b[0m \u001b[1m11s\u001b[0m 2ms/step - accuracy: 0.7309 - loss: 0.6249 - val_accuracy: 0.7523 - val_loss: 0.5933\n",
      "Epoch 4/15\n",
      "\u001b[1m5120/5120\u001b[0m \u001b[32m━━━━━━━━━━━━━━━━━━━━\u001b[0m\u001b[37m\u001b[0m \u001b[1m11s\u001b[0m 2ms/step - accuracy: 0.7246 - loss: 0.6285 - val_accuracy: 0.7531 - val_loss: 0.6161\n",
      "Epoch 5/15\n",
      "\u001b[1m5120/5120\u001b[0m \u001b[32m━━━━━━━━━━━━━━━━━━━━\u001b[0m\u001b[37m\u001b[0m \u001b[1m11s\u001b[0m 2ms/step - accuracy: 0.7235 - loss: 0.6326 - val_accuracy: 0.7461 - val_loss: 0.6112\n",
      "Epoch 6/15\n",
      "\u001b[1m5120/5120\u001b[0m \u001b[32m━━━━━━━━━━━━━━━━━━━━\u001b[0m\u001b[37m\u001b[0m \u001b[1m11s\u001b[0m 2ms/step - accuracy: 0.7288 - loss: 0.6293 - val_accuracy: 0.7539 - val_loss: 0.6127\n",
      "Epoch 7/15\n",
      "\u001b[1m5120/5120\u001b[0m \u001b[32m━━━━━━━━━━━━━━━━━━━━\u001b[0m\u001b[37m\u001b[0m \u001b[1m11s\u001b[0m 2ms/step - accuracy: 0.7310 - loss: 0.6371 - val_accuracy: 0.7531 - val_loss: 0.7025\n",
      "Epoch 8/15\n",
      "\u001b[1m5120/5120\u001b[0m \u001b[32m━━━━━━━━━━━━━━━━━━━━\u001b[0m\u001b[37m\u001b[0m \u001b[1m11s\u001b[0m 2ms/step - accuracy: 0.7224 - loss: 0.6493 - val_accuracy: 0.7531 - val_loss: 0.6396\n",
      "Epoch 9/15\n",
      "\u001b[1m5120/5120\u001b[0m \u001b[32m━━━━━━━━━━━━━━━━━━━━\u001b[0m\u001b[37m\u001b[0m \u001b[1m11s\u001b[0m 2ms/step - accuracy: 0.7289 - loss: 0.6373 - val_accuracy: 0.7531 - val_loss: 0.6337\n",
      "Epoch 10/15\n",
      "\u001b[1m5120/5120\u001b[0m \u001b[32m━━━━━━━━━━━━━━━━━━━━\u001b[0m\u001b[37m\u001b[0m \u001b[1m11s\u001b[0m 2ms/step - accuracy: 0.7374 - loss: 0.6357 - val_accuracy: 0.7531 - val_loss: 0.6509\n",
      "Epoch 11/15\n",
      "\u001b[1m5120/5120\u001b[0m \u001b[32m━━━━━━━━━━━━━━━━━━━━\u001b[0m\u001b[37m\u001b[0m \u001b[1m11s\u001b[0m 2ms/step - accuracy: 0.7331 - loss: 0.6309 - val_accuracy: 0.7531 - val_loss: 0.6203\n",
      "Epoch 12/15\n",
      "\u001b[1m5120/5120\u001b[0m \u001b[32m━━━━━━━━━━━━━━━━━━━━\u001b[0m\u001b[37m\u001b[0m \u001b[1m11s\u001b[0m 2ms/step - accuracy: 0.7326 - loss: 0.6386 - val_accuracy: 0.7461 - val_loss: 0.7021\n",
      "Epoch 13/15\n",
      "\u001b[1m5120/5120\u001b[0m \u001b[32m━━━━━━━━━━━━━━━━━━━━\u001b[0m\u001b[37m\u001b[0m \u001b[1m11s\u001b[0m 2ms/step - accuracy: 0.7236 - loss: 0.6530 - val_accuracy: 0.7430 - val_loss: 0.6690\n",
      "Epoch 14/15\n",
      "\u001b[1m5120/5120\u001b[0m \u001b[32m━━━━━━━━━━━━━━━━━━━━\u001b[0m\u001b[37m\u001b[0m \u001b[1m11s\u001b[0m 2ms/step - accuracy: 0.7239 - loss: 0.6508 - val_accuracy: 0.7406 - val_loss: 0.6741\n",
      "Epoch 15/15\n",
      "\u001b[1m5120/5120\u001b[0m \u001b[32m━━━━━━━━━━━━━━━━━━━━\u001b[0m\u001b[37m\u001b[0m \u001b[1m11s\u001b[0m 2ms/step - accuracy: 0.7109 - loss: 0.6628 - val_accuracy: 0.7359 - val_loss: 0.6761\n"
     ]
    }
   ],
   "source": [
    "model1.compile(loss='binary_crossentropy' , metrics=['accuracy'])\n",
    "history = model1.fit(xtrainscale, ytrain, epochs=15,batch_size = 1, validation_split = 0.2)"
   ]
  },
  {
   "cell_type": "code",
   "execution_count": 28,
   "id": "79a793fa",
   "metadata": {
    "execution": {
     "iopub.execute_input": "2025-10-06T18:19:58.932757Z",
     "iopub.status.busy": "2025-10-06T18:19:58.932453Z",
     "iopub.status.idle": "2025-10-06T18:19:59.101128Z",
     "shell.execute_reply": "2025-10-06T18:19:59.100228Z"
    },
    "executionInfo": {
     "elapsed": 246,
     "status": "ok",
     "timestamp": 1759772947155,
     "user": {
      "displayName": "Sheral Waskar",
      "userId": "04026476592042756494"
     },
     "user_tz": -330
    },
    "id": "y08kpeGZoWrx",
    "outputId": "4fac419f-c323-4a7a-ce8f-96f18123a284",
    "papermill": {
     "duration": 0.32165,
     "end_time": "2025-10-06T18:19:59.102620",
     "exception": false,
     "start_time": "2025-10-06T18:19:58.780970",
     "status": "completed"
    },
    "tags": []
   },
   "outputs": [
    {
     "data": {
      "image/png": "[encoded data removed]",
      "text/plain": [
       "<Figure size 640x480 with 1 Axes>"
      ]
     },
     "metadata": {},
     "output_type": "display_data"
    }
   ],
   "source": [
    "plt.plot(history.history['loss'],label = \"loss\")\n",
    "plt.plot(history.history['val_loss'],label = \"validation loss\")\n",
    "plt.legend()\n",
    "plt.show()"
   ]
  },
  {
   "cell_type": "markdown",
   "id": "fc3e3389",
   "metadata": {
    "id": "kBSefjDGpiQg",
    "papermill": {
     "duration": 0.152943,
     "end_time": "2025-10-06T18:19:59.410258",
     "exception": false,
     "start_time": "2025-10-06T18:19:59.257315",
     "status": "completed"
    },
    "tags": []
   },
   "source": [
    "**Observation :**\n",
    "\n",
    "The training loss appears to be fluctuating but generally decreasing over the epochs. This indicates that the model is learning from the training data.\n",
    "The validation loss also fluctuates, and while it starts lower than the training loss in the first epoch, it remains relatively high and does not consistently decrease like the training loss. In fact, it seems to increase towards the end.\n",
    "This pattern, where the training loss continues to decrease but the validation loss either plateaus or increases, suggests that the model might be overfitting to the training data. Overfitting means the model is learning the training data too well, including the noise, and is not generalizing well to unseen data (the validation set).\n",
    "\n",
    "To address this, you might consider techniques like:\n",
    "\n",
    "Adding dropout layers to the neural network.\n",
    "Using regularization (L1 or L2).\n",
    "Early stopping during training.\n",
    "Increasing the size of the validation set or using cross-validation.\n",
    "Simplifying the model architecture.\n"
   ]
  },
  {
   "cell_type": "code",
   "execution_count": null,
   "id": "2664180f",
   "metadata": {
    "id": "7FbFe7KgpnFl",
    "papermill": {
     "duration": 0.15315,
     "end_time": "2025-10-06T18:19:59.716280",
     "exception": false,
     "start_time": "2025-10-06T18:19:59.563130",
     "status": "completed"
    },
    "tags": []
   },
   "outputs": [],
   "source": []
  },
  {
   "cell_type": "code",
   "execution_count": 29,
   "id": "d1249dec",
   "metadata": {
    "execution": {
     "iopub.execute_input": "2025-10-06T18:20:00.032838Z",
     "iopub.status.busy": "2025-10-06T18:20:00.032538Z",
     "iopub.status.idle": "2025-10-06T18:20:00.093604Z",
     "shell.execute_reply": "2025-10-06T18:20:00.092928Z"
    },
    "executionInfo": {
     "elapsed": 74,
     "status": "ok",
     "timestamp": 1759773246892,
     "user": {
      "displayName": "Sheral Waskar",
      "userId": "04026476592042756494"
     },
     "user_tz": -330
    },
    "id": "a467b6c7",
    "outputId": "615dd0e4-4947-46b8-eee4-019eaba284d3",
    "papermill": {
     "duration": 0.221603,
     "end_time": "2025-10-06T18:20:00.095053",
     "exception": false,
     "start_time": "2025-10-06T18:19:59.873450",
     "status": "completed"
    },
    "tags": []
   },
   "outputs": [
    {
     "data": {
      "text/html": [
       "<pre style=\"white-space:pre;overflow-x:auto;line-height:normal;font-family:Menlo,'DejaVu Sans Mono',consolas,'Courier New',monospace\"><span style=\"font-weight: bold\">Model: \"sequential_1\"</span>\n",
       "</pre>\n"
      ],
      "text/plain": [
       "\u001b[1mModel: \"sequential_1\"\u001b[0m\n"
      ]
     },
     "metadata": {},
     "output_type": "display_data"
    },
    {
     "data": {
      "text/html": [
       "<pre style=\"white-space:pre;overflow-x:auto;line-height:normal;font-family:Menlo,'DejaVu Sans Mono',consolas,'Courier New',monospace\">┏━━━━━━━━━━━━━━━━━━━━━━━━━━━━━━━━━┳━━━━━━━━━━━━━━━━━━━━━━━━┳━━━━━━━━━━━━━━━┓\n",
       "┃<span style=\"font-weight: bold\"> Layer (type)                    </span>┃<span style=\"font-weight: bold\"> Output Shape           </span>┃<span style=\"font-weight: bold\">       Param # </span>┃\n",
       "┡━━━━━━━━━━━━━━━━━━━━━━━━━━━━━━━━━╇━━━━━━━━━━━━━━━━━━━━━━━━╇━━━━━━━━━━━━━━━┩\n",
       "│ dense_3 (<span style=\"color: #0087ff; text-decoration-color: #0087ff\">Dense</span>)                 │ (<span style=\"color: #00d7ff; text-decoration-color: #00d7ff\">None</span>, <span style=\"color: #00af00; text-decoration-color: #00af00\">128</span>)            │         <span style=\"color: #00af00; text-decoration-color: #00af00\">2,688</span> │\n",
       "├─────────────────────────────────┼────────────────────────┼───────────────┤\n",
       "│ dropout (<span style=\"color: #0087ff; text-decoration-color: #0087ff\">Dropout</span>)               │ (<span style=\"color: #00d7ff; text-decoration-color: #00d7ff\">None</span>, <span style=\"color: #00af00; text-decoration-color: #00af00\">128</span>)            │             <span style=\"color: #00af00; text-decoration-color: #00af00\">0</span> │\n",
       "├─────────────────────────────────┼────────────────────────┼───────────────┤\n",
       "│ dense_4 (<span style=\"color: #0087ff; text-decoration-color: #0087ff\">Dense</span>)                 │ (<span style=\"color: #00d7ff; text-decoration-color: #00d7ff\">None</span>, <span style=\"color: #00af00; text-decoration-color: #00af00\">128</span>)            │        <span style=\"color: #00af00; text-decoration-color: #00af00\">16,512</span> │\n",
       "├─────────────────────────────────┼────────────────────────┼───────────────┤\n",
       "│ dropout_1 (<span style=\"color: #0087ff; text-decoration-color: #0087ff\">Dropout</span>)             │ (<span style=\"color: #00d7ff; text-decoration-color: #00d7ff\">None</span>, <span style=\"color: #00af00; text-decoration-color: #00af00\">128</span>)            │             <span style=\"color: #00af00; text-decoration-color: #00af00\">0</span> │\n",
       "├─────────────────────────────────┼────────────────────────┼───────────────┤\n",
       "│ dense_5 (<span style=\"color: #0087ff; text-decoration-color: #0087ff\">Dense</span>)                 │ (<span style=\"color: #00d7ff; text-decoration-color: #00d7ff\">None</span>, <span style=\"color: #00af00; text-decoration-color: #00af00\">1</span>)              │           <span style=\"color: #00af00; text-decoration-color: #00af00\">129</span> │\n",
       "└─────────────────────────────────┴────────────────────────┴───────────────┘\n",
       "</pre>\n"
      ],
      "text/plain": [
       "┏━━━━━━━━━━━━━━━━━━━━━━━━━━━━━━━━━┳━━━━━━━━━━━━━━━━━━━━━━━━┳━━━━━━━━━━━━━━━┓\n",
       "┃\u001b[1m \u001b[0m\u001b[1mLayer (type)                   \u001b[0m\u001b[1m \u001b[0m┃\u001b[1m \u001b[0m\u001b[1mOutput Shape          \u001b[0m\u001b[1m \u001b[0m┃\u001b[1m \u001b[0m\u001b[1m      Param #\u001b[0m\u001b[1m \u001b[0m┃\n",
       "┡━━━━━━━━━━━━━━━━━━━━━━━━━━━━━━━━━╇━━━━━━━━━━━━━━━━━━━━━━━━╇━━━━━━━━━━━━━━━┩\n",
       "│ dense_3 (\u001b[38;5;33mDense\u001b[0m)                 │ (\u001b[38;5;45mNone\u001b[0m, \u001b[38;5;34m128\u001b[0m)            │         \u001b[38;5;34m2,688\u001b[0m │\n",
       "├─────────────────────────────────┼────────────────────────┼───────────────┤\n",
       "│ dropout (\u001b[38;5;33mDropout\u001b[0m)               │ (\u001b[38;5;45mNone\u001b[0m, \u001b[38;5;34m128\u001b[0m)            │             \u001b[38;5;34m0\u001b[0m │\n",
       "├─────────────────────────────────┼────────────────────────┼───────────────┤\n",
       "│ dense_4 (\u001b[38;5;33mDense\u001b[0m)                 │ (\u001b[38;5;45mNone\u001b[0m, \u001b[38;5;34m128\u001b[0m)            │        \u001b[38;5;34m16,512\u001b[0m │\n",
       "├─────────────────────────────────┼────────────────────────┼───────────────┤\n",
       "│ dropout_1 (\u001b[38;5;33mDropout\u001b[0m)             │ (\u001b[38;5;45mNone\u001b[0m, \u001b[38;5;34m128\u001b[0m)            │             \u001b[38;5;34m0\u001b[0m │\n",
       "├─────────────────────────────────┼────────────────────────┼───────────────┤\n",
       "│ dense_5 (\u001b[38;5;33mDense\u001b[0m)                 │ (\u001b[38;5;45mNone\u001b[0m, \u001b[38;5;34m1\u001b[0m)              │           \u001b[38;5;34m129\u001b[0m │\n",
       "└─────────────────────────────────┴────────────────────────┴───────────────┘\n"
      ]
     },
     "metadata": {},
     "output_type": "display_data"
    },
    {
     "data": {
      "text/html": [
       "<pre style=\"white-space:pre;overflow-x:auto;line-height:normal;font-family:Menlo,'DejaVu Sans Mono',consolas,'Courier New',monospace\"><span style=\"font-weight: bold\"> Total params: </span><span style=\"color: #00af00; text-decoration-color: #00af00\">19,329</span> (75.50 KB)\n",
       "</pre>\n"
      ],
      "text/plain": [
       "\u001b[1m Total params: \u001b[0m\u001b[38;5;34m19,329\u001b[0m (75.50 KB)\n"
      ]
     },
     "metadata": {},
     "output_type": "display_data"
    },
    {
     "data": {
      "text/html": [
       "<pre style=\"white-space:pre;overflow-x:auto;line-height:normal;font-family:Menlo,'DejaVu Sans Mono',consolas,'Courier New',monospace\"><span style=\"font-weight: bold\"> Trainable params: </span><span style=\"color: #00af00; text-decoration-color: #00af00\">19,329</span> (75.50 KB)\n",
       "</pre>\n"
      ],
      "text/plain": [
       "\u001b[1m Trainable params: \u001b[0m\u001b[38;5;34m19,329\u001b[0m (75.50 KB)\n"
      ]
     },
     "metadata": {},
     "output_type": "display_data"
    },
    {
     "data": {
      "text/html": [
       "<pre style=\"white-space:pre;overflow-x:auto;line-height:normal;font-family:Menlo,'DejaVu Sans Mono',consolas,'Courier New',monospace\"><span style=\"font-weight: bold\"> Non-trainable params: </span><span style=\"color: #00af00; text-decoration-color: #00af00\">0</span> (0.00 B)\n",
       "</pre>\n"
      ],
      "text/plain": [
       "\u001b[1m Non-trainable params: \u001b[0m\u001b[38;5;34m0\u001b[0m (0.00 B)\n"
      ]
     },
     "metadata": {},
     "output_type": "display_data"
    }
   ],
   "source": [
    "from tensorflow.keras.models import Sequential\n",
    "from tensorflow.keras.layers import Dense, Dropout\n",
    "\n",
    "dim = xtrainscale.shape[1]  # Use xtrainscale shape after scaling\n",
    "\n",
    "model2 = Sequential()\n",
    "\n",
    "model2.add(Dense(128, input_dim=dim, activation=\"relu\"))\n",
    "model2.add(Dropout(0.5)) # Add dropout layer with 50% dropout rate\n",
    "model2.add(Dense(128, activation=\"relu\"))\n",
    "model2.add(Dropout(0.5)) # Add another dropout layer\n",
    "model2.add(Dense(1, activation='sigmoid'))\n",
    "\n",
    "model2.summary()"
   ]
  },
  {
   "cell_type": "code",
   "execution_count": 30,
   "id": "38a3538d",
   "metadata": {
    "execution": {
     "iopub.execute_input": "2025-10-06T18:20:00.403767Z",
     "iopub.status.busy": "2025-10-06T18:20:00.403454Z",
     "iopub.status.idle": "2025-10-06T18:22:47.252315Z",
     "shell.execute_reply": "2025-10-06T18:22:47.251309Z"
    },
    "executionInfo": {
     "elapsed": 262262,
     "status": "ok",
     "timestamp": 1759773512888,
     "user": {
      "displayName": "Sheral Waskar",
      "userId": "04026476592042756494"
     },
     "user_tz": -330
    },
    "id": "c6ca317d",
    "outputId": "93eda0a9-b32f-4041-d1fd-5f46f3228c6a",
    "papermill": {
     "duration": 167.004879,
     "end_time": "2025-10-06T18:22:47.254191",
     "exception": false,
     "start_time": "2025-10-06T18:20:00.249312",
     "status": "completed"
    },
    "tags": []
   },
   "outputs": [
    {
     "name": "stdout",
     "output_type": "stream",
     "text": [
      "Epoch 1/15\n",
      "\u001b[1m5120/5120\u001b[0m \u001b[32m━━━━━━━━━━━━━━━━━━━━\u001b[0m\u001b[37m\u001b[0m \u001b[1m13s\u001b[0m 2ms/step - accuracy: 0.7152 - loss: 0.6833 - val_accuracy: 0.7383 - val_loss: 0.5932\n",
      "Epoch 2/15\n",
      "\u001b[1m5120/5120\u001b[0m \u001b[32m━━━━━━━━━━━━━━━━━━━━\u001b[0m\u001b[37m\u001b[0m \u001b[1m11s\u001b[0m 2ms/step - accuracy: 0.7024 - loss: 0.6871 - val_accuracy: 0.7250 - val_loss: 0.7572\n",
      "Epoch 3/15\n",
      "\u001b[1m5120/5120\u001b[0m \u001b[32m━━━━━━━━━━━━━━━━━━━━\u001b[0m\u001b[37m\u001b[0m \u001b[1m11s\u001b[0m 2ms/step - accuracy: 0.6699 - loss: 0.7320 - val_accuracy: 0.6953 - val_loss: 0.7016\n",
      "Epoch 4/15\n",
      "\u001b[1m5120/5120\u001b[0m \u001b[32m━━━━━━━━━━━━━━━━━━━━\u001b[0m\u001b[37m\u001b[0m \u001b[1m11s\u001b[0m 2ms/step - accuracy: 0.6501 - loss: 0.7488 - val_accuracy: 0.6930 - val_loss: 0.6270\n",
      "Epoch 5/15\n",
      "\u001b[1m5120/5120\u001b[0m \u001b[32m━━━━━━━━━━━━━━━━━━━━\u001b[0m\u001b[37m\u001b[0m \u001b[1m11s\u001b[0m 2ms/step - accuracy: 0.6529 - loss: 0.7637 - val_accuracy: 0.6961 - val_loss: 0.6886\n",
      "Epoch 6/15\n",
      "\u001b[1m5120/5120\u001b[0m \u001b[32m━━━━━━━━━━━━━━━━━━━━\u001b[0m\u001b[37m\u001b[0m \u001b[1m11s\u001b[0m 2ms/step - accuracy: 0.6551 - loss: 0.7569 - val_accuracy: 0.7063 - val_loss: 0.6134\n",
      "Epoch 7/15\n",
      "\u001b[1m5120/5120\u001b[0m \u001b[32m━━━━━━━━━━━━━━━━━━━━\u001b[0m\u001b[37m\u001b[0m \u001b[1m11s\u001b[0m 2ms/step - accuracy: 0.6626 - loss: 0.7438 - val_accuracy: 0.7531 - val_loss: 0.6667\n",
      "Epoch 8/15\n",
      "\u001b[1m5120/5120\u001b[0m \u001b[32m━━━━━━━━━━━━━━━━━━━━\u001b[0m\u001b[37m\u001b[0m \u001b[1m11s\u001b[0m 2ms/step - accuracy: 0.6916 - loss: 0.7776 - val_accuracy: 0.7531 - val_loss: 0.5950\n",
      "Epoch 9/15\n",
      "\u001b[1m5120/5120\u001b[0m \u001b[32m━━━━━━━━━━━━━━━━━━━━\u001b[0m\u001b[37m\u001b[0m \u001b[1m11s\u001b[0m 2ms/step - accuracy: 0.7091 - loss: 0.7505 - val_accuracy: 0.7531 - val_loss: 0.6177\n",
      "Epoch 10/15\n",
      "\u001b[1m5120/5120\u001b[0m \u001b[32m━━━━━━━━━━━━━━━━━━━━\u001b[0m\u001b[37m\u001b[0m \u001b[1m11s\u001b[0m 2ms/step - accuracy: 0.7189 - loss: 0.7519 - val_accuracy: 0.7531 - val_loss: 0.5865\n",
      "Epoch 11/15\n",
      "\u001b[1m5120/5120\u001b[0m \u001b[32m━━━━━━━━━━━━━━━━━━━━\u001b[0m\u001b[37m\u001b[0m \u001b[1m11s\u001b[0m 2ms/step - accuracy: 0.7107 - loss: 0.7416 - val_accuracy: 0.7531 - val_loss: 0.6839\n",
      "Epoch 12/15\n",
      "\u001b[1m5120/5120\u001b[0m \u001b[32m━━━━━━━━━━━━━━━━━━━━\u001b[0m\u001b[37m\u001b[0m \u001b[1m11s\u001b[0m 2ms/step - accuracy: 0.7167 - loss: 0.7631 - val_accuracy: 0.7523 - val_loss: 0.5968\n",
      "Epoch 13/15\n",
      "\u001b[1m5120/5120\u001b[0m \u001b[32m━━━━━━━━━━━━━━━━━━━━\u001b[0m\u001b[37m\u001b[0m \u001b[1m11s\u001b[0m 2ms/step - accuracy: 0.7090 - loss: 0.7524 - val_accuracy: 0.7531 - val_loss: 0.6615\n",
      "Epoch 14/15\n",
      "\u001b[1m5120/5120\u001b[0m \u001b[32m━━━━━━━━━━━━━━━━━━━━\u001b[0m\u001b[37m\u001b[0m \u001b[1m11s\u001b[0m 2ms/step - accuracy: 0.7160 - loss: 0.7646 - val_accuracy: 0.7531 - val_loss: 0.6331\n",
      "Epoch 15/15\n",
      "\u001b[1m5120/5120\u001b[0m \u001b[32m━━━━━━━━━━━━━━━━━━━━\u001b[0m\u001b[37m\u001b[0m \u001b[1m11s\u001b[0m 2ms/step - accuracy: 0.7119 - loss: 0.7448 - val_accuracy: 0.7531 - val_loss: 0.6442\n"
     ]
    }
   ],
   "source": [
    "model2.compile(loss='binary_crossentropy', metrics=['accuracy'])\n",
    "history2 = model2.fit(xtrainscale, ytrain, epochs=15, batch_size=1, validation_split=0.2)"
   ]
  },
  {
   "cell_type": "code",
   "execution_count": 31,
   "id": "c1461652",
   "metadata": {
    "execution": {
     "iopub.execute_input": "2025-10-06T18:22:47.848136Z",
     "iopub.status.busy": "2025-10-06T18:22:47.847775Z",
     "iopub.status.idle": "2025-10-06T18:22:48.074803Z",
     "shell.execute_reply": "2025-10-06T18:22:48.073952Z"
    },
    "executionInfo": {
     "elapsed": 190,
     "status": "ok",
     "timestamp": 1759773981711,
     "user": {
      "displayName": "Sheral Waskar",
      "userId": "04026476592042756494"
     },
     "user_tz": -330
    },
    "id": "3c68c5d9",
    "outputId": "49c9150e-a434-4262-8e4d-8a89945d1a8a",
    "papermill": {
     "duration": 0.524543,
     "end_time": "2025-10-06T18:22:48.076325",
     "exception": false,
     "start_time": "2025-10-06T18:22:47.551782",
     "status": "completed"
    },
    "tags": []
   },
   "outputs": [
    {
     "data": {
      "image/png": "[encoded data removed]",
      "text/plain": [
       "<Figure size 640x480 with 1 Axes>"
      ]
     },
     "metadata": {},
     "output_type": "display_data"
    }
   ],
   "source": [
    "plt.plot(history2.history['loss'], label=\"loss\")\n",
    "plt.plot(history2.history['val_loss'], label=\"validation loss\")\n",
    "plt.legend()\n",
    "plt.title(\"Model with Dropout Loss Curves\")\n",
    "plt.xlabel(\"Epoch\")\n",
    "plt.ylabel(\"Loss\")\n",
    "plt.show()"
   ]
  },
  {
   "cell_type": "code",
   "execution_count": 32,
   "id": "4ae1782c",
   "metadata": {
    "execution": {
     "iopub.execute_input": "2025-10-06T18:22:48.675807Z",
     "iopub.status.busy": "2025-10-06T18:22:48.674983Z",
     "iopub.status.idle": "2025-10-06T18:22:49.127238Z",
     "shell.execute_reply": "2025-10-06T18:22:49.126394Z"
    },
    "executionInfo": {
     "elapsed": 537,
     "status": "ok",
     "timestamp": 1759774268520,
     "user": {
      "displayName": "Sheral Waskar",
      "userId": "04026476592042756494"
     },
     "user_tz": -330
    },
    "id": "35858780",
    "outputId": "47322f48-57d6-4d79-a2c4-ec919f8942a0",
    "papermill": {
     "duration": 0.751698,
     "end_time": "2025-10-06T18:22:49.129279",
     "exception": false,
     "start_time": "2025-10-06T18:22:48.377581",
     "status": "completed"
    },
    "tags": []
   },
   "outputs": [
    {
     "data": {
      "image/png": "[encoded data removed]",
      "text/plain": [
       "<Figure size 1200x600 with 1 Axes>"
      ]
     },
     "metadata": {},
     "output_type": "display_data"
    },
    {
     "data": {
      "image/png": "[encoded data removed]",
      "text/plain": [
       "<Figure size 1200x600 with 1 Axes>"
      ]
     },
     "metadata": {},
     "output_type": "display_data"
    }
   ],
   "source": [
    "# Plotting accuracy for the first model (without dropout)\n",
    "plt.figure(figsize=(12, 6))\n",
    "plt.plot(history.history['accuracy'], label='Training Accuracy (No Dropout)')\n",
    "plt.plot(history.history['val_accuracy'], label='Validation Accuracy (No Dropout)')\n",
    "plt.title('Model without Dropout Accuracy Curves')\n",
    "plt.xlabel('Epoch')\n",
    "plt.ylabel('Accuracy')\n",
    "plt.legend()\n",
    "plt.show()\n",
    "\n",
    "# Plotting accuracy for the second model (with dropout)\n",
    "plt.figure(figsize=(12, 6))\n",
    "plt.plot(history2.history['accuracy'], label='Training Accuracy (with Dropout)')\n",
    "plt.plot(history2.history['val_accuracy'], label='Validation Accuracy (with Dropout)')\n",
    "plt.title('Model with Dropout Accuracy Curves')\n",
    "plt.xlabel('Epoch')\n",
    "plt.ylabel('Accuracy')\n",
    "plt.legend()\n",
    "plt.show()"
   ]
  },
  {
   "cell_type": "markdown",
   "id": "cf87be4a",
   "metadata": {
    "id": "BXz5n72WuS95",
    "papermill": {
     "duration": 0.295922,
     "end_time": "2025-10-06T18:22:49.728881",
     "exception": false,
     "start_time": "2025-10-06T18:22:49.432959",
     "status": "completed"
    },
    "tags": []
   },
   "source": [
    "Both deep learning models, with and without dropout, show signs of overfitting. The model without dropout exhibits a clear and widening gap between training and validation accuracy. While the model with dropout shows a more unstable training accuracy (as expected), the validation accuracy does not significantly improve, suggesting that the current implementation of dropout or the chosen dropout rate might not be sufficient to effectively combat overfitting in this case.\n",
    "\n",
    "To improve the performance and generalization of the deep learning model, further steps are needed:\n",
    "\n",
    "Experiment with different dropout rates: Try varying the dropout rate (e.g., 0.2, 0.3, 0.4) in both dropout layers.\n",
    "Add more dropout layers: Consider adding dropout to more layers if the network is deeper.\n",
    "Implement Early Stopping: Use a callback to stop training when the validation loss stops improving, preventing the model from overfitting further.\n",
    "Add Regularization: Incorporate L1 or L2 regularization to the dense layers.\n",
    "Adjust Network Architecture: Consider simplifying the network by reducing the number of layers or neurons per layer, or try a different architecture altogether.\n",
    "Increase Data Size: If possible, obtaining more data can often help reduce overfitting.\n",
    "Overall, while the deep learning approach is a valid direction, further tuning and regularization are required to build a robust model that generalizes well to unseen Spotify user data for churn prediction.\n",
    "\n"
   ]
  }
 ],
 "metadata": {
  "colab": {
   "authorship_tag": "ABX9TyMhmWMt4ZUURdCnhK8eIdva",
   "provenance": []
  },
  "kaggle": {
   "accelerator": "none",
   "dataSources": [
    {
     "datasetId": 8162411,
     "sourceId": 12900544,
     "sourceType": "datasetVersion"
    }
   ],
   "isGpuEnabled": false,
   "isInternetEnabled": true,
   "language": "python",
   "sourceType": "notebook"
  },
  "kernelspec": {
   "display_name": "Python 3",
   "name": "python3"
  },
  "language_info": {
   "codemirror_mode": {
    "name": "ipython",
    "version": 3
   },
   "file_extension": ".py",
   "mimetype": "text/x-python",
   "name": "python",
   "nbconvert_exporter": "python",
   "pygments_lexer": "ipython3",
   "version": "3.11.13"
  },
  "papermill": {
   "default_parameters": {},
   "duration": 422.583416,
   "end_time": "2025-10-06T18:22:52.653771",
   "environment_variables": {},
   "exception": null,
   "input_path": "__notebook__.ipynb",
   "output_path": "__notebook__.ipynb",
   "parameters": {},
   "start_time": "2025-10-06T18:15:50.070355",
   "version": "2.6.0"
  }
 },
 "nbformat": 4,
 "nbformat_minor": 5
}
